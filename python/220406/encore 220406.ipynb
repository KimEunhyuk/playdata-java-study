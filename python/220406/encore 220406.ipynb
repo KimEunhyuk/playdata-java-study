{
 "cells": [
  {
   "cell_type": "code",
   "execution_count": null,
   "id": "66873889",
   "metadata": {},
   "outputs": [],
   "source": [
    "import requests\n",
    "def search_star(addr):\n",
    "    url= 'https://www.starbucks.co.kr/store/getStore.do?r=804IUG79N7'\n",
    "    payload = {\n",
    "        'in_biz_cds' : '0',\n",
    "        'in_scodes' : '0',\n",
    "        'ins_lat' : '37.5627128',\n",
    "        'ins_lng' : '126.93279869999999',\n",
    "        'search_text' : '',\n",
    "        'p_sido_cd' : '01',\n",
    "        'p_gugun_cd' : '',\n",
    "        'in_distance' : '0',\n",
    "        'in_biz_cd' : '',\n",
    "        'isError' : 'true',\n",
    "        'searchType' : 'C',\n",
    "        'set_date' : '',\n",
    "        'all_store' : '0',\n",
    "        'T03' : '0',\n",
    "        'T01' : '0',\n",
    "        'T12' : '0',\n",
    "        'T09' : '0',\n",
    "        'T30' : '0',\n",
    "        'T05' : '0',\n",
    "        'T22' : '0',\n",
    "        'T21' : '0',\n",
    "        'T10' : '0',\n",
    "        'T36' : '0',\n",
    "        'P10' : '0',\n",
    "        'P50' : '0',\n",
    "        'P20' : '0',\n",
    "        'P60' : '0',\n",
    "        'P30' : '0',\n",
    "        'P70' : '0',\n",
    "        'P40' : '0',\n",
    "        'P80' : '0',\n",
    "        'whcroad_yn' : '0',\n",
    "        'P90' : '0',\n",
    "        'new_bool' : '0',\n",
    "        'iend' : '1000',\n",
    "        'rndCod' : 'V8UNZFKU44',}\n",
    "\n",
    "    r = requests.post(url, data=payload)\n",
    "    \n",
    "    \n",
    "    return [x['addr'] for x in r.json()['list'] if x['addr'].find(addr) > -1]\n"
   ]
  },
  {
   "cell_type": "code",
   "execution_count": null,
   "id": "79ab4810",
   "metadata": {},
   "outputs": [],
   "source": [
    "search_star(\"관악구\")"
   ]
  },
  {
   "cell_type": "code",
   "execution_count": null,
   "id": "0df2ab9c",
   "metadata": {},
   "outputs": [],
   "source": [
    "import star"
   ]
  },
  {
   "cell_type": "code",
   "execution_count": null,
   "id": "b2e1b56a",
   "metadata": {},
   "outputs": [],
   "source": [
    "star.search_star(\"서초구\")"
   ]
  },
  {
   "cell_type": "code",
   "execution_count": null,
   "id": "b84ebf56",
   "metadata": {},
   "outputs": [],
   "source": [
    "star.search_star(\"노원구\")"
   ]
  },
  {
   "cell_type": "code",
   "execution_count": null,
   "id": "b1983b44",
   "metadata": {
    "scrolled": true
   },
   "outputs": [],
   "source": [
    "tmp()"
   ]
  },
  {
   "cell_type": "code",
   "execution_count": null,
   "id": "70157586",
   "metadata": {},
   "outputs": [],
   "source": [
    "from bs4 import BeautifulSoup as BS"
   ]
  },
  {
   "cell_type": "code",
   "execution_count": null,
   "id": "76173f26",
   "metadata": {},
   "outputs": [],
   "source": [
    "def BeautifulSoup():\n",
    "    print(\"아름다운 스프\")"
   ]
  },
  {
   "cell_type": "code",
   "execution_count": null,
   "id": "f12319b3",
   "metadata": {},
   "outputs": [],
   "source": [
    "BeautifulSoup()"
   ]
  },
  {
   "cell_type": "code",
   "execution_count": null,
   "id": "ff17eb38",
   "metadata": {},
   "outputs": [],
   "source": [
    "len(\"BeautifulSoup\")"
   ]
  },
  {
   "cell_type": "code",
   "execution_count": null,
   "id": "02cfcb0d",
   "metadata": {},
   "outputs": [],
   "source": [
    "BS"
   ]
  },
  {
   "cell_type": "code",
   "execution_count": null,
   "id": "64abd745",
   "metadata": {},
   "outputs": [],
   "source": [
    "__name__"
   ]
  },
  {
   "cell_type": "markdown",
   "id": "664de2ff",
   "metadata": {},
   "source": [
    "#### 시계열 데이터\n",
    "* 시간개념이 포함된 데이터\n",
    "    * 주식, 코인, 온도, 코로나 확진자수, .........."
   ]
  },
  {
   "cell_type": "code",
   "execution_count": null,
   "id": "0fd34327",
   "metadata": {},
   "outputs": [],
   "source": [
    "\"2022-04-06\""
   ]
  },
  {
   "cell_type": "code",
   "execution_count": null,
   "id": "4fef8c21",
   "metadata": {},
   "outputs": [],
   "source": [
    "from datetime import date, datetime, timedelta"
   ]
  },
  {
   "cell_type": "code",
   "execution_count": null,
   "id": "4e65edbc",
   "metadata": {},
   "outputs": [],
   "source": [
    "date.today()"
   ]
  },
  {
   "cell_type": "code",
   "execution_count": null,
   "id": "2f642482",
   "metadata": {},
   "outputs": [],
   "source": [
    "datetime.now()"
   ]
  },
  {
   "cell_type": "code",
   "execution_count": null,
   "id": "6aa96e13",
   "metadata": {},
   "outputs": [],
   "source": [
    "date.today() - timedelta(days=100)"
   ]
  },
  {
   "cell_type": "code",
   "execution_count": null,
   "id": "7e0ff4be",
   "metadata": {},
   "outputs": [],
   "source": [
    "today = date.today()"
   ]
  },
  {
   "cell_type": "code",
   "execution_count": null,
   "id": "7ff88d14",
   "metadata": {},
   "outputs": [],
   "source": [
    "str(today)"
   ]
  },
  {
   "cell_type": "code",
   "execution_count": null,
   "id": "0aae926f",
   "metadata": {},
   "outputs": [],
   "source": [
    "today.strftime(\"%Y/%m/%d\")"
   ]
  },
  {
   "cell_type": "code",
   "execution_count": null,
   "id": "6ddcfc63",
   "metadata": {},
   "outputs": [],
   "source": [
    "today.strftime(\"%m/%d/%y\")"
   ]
  },
  {
   "cell_type": "code",
   "execution_count": null,
   "id": "8e54aa52",
   "metadata": {},
   "outputs": [],
   "source": [
    "today.strftime(\"%m.%d.%y\")"
   ]
  },
  {
   "cell_type": "code",
   "execution_count": null,
   "id": "e2fa80a9",
   "metadata": {},
   "outputs": [],
   "source": [
    "now = datetime.now()\n",
    "now"
   ]
  },
  {
   "cell_type": "code",
   "execution_count": null,
   "id": "87512856",
   "metadata": {},
   "outputs": [],
   "source": [
    "str(now).split('.')[0]"
   ]
  },
  {
   "cell_type": "code",
   "execution_count": null,
   "id": "25cb962a",
   "metadata": {},
   "outputs": [],
   "source": [
    "str(now)[:str(now).find(\".\")]"
   ]
  },
  {
   "cell_type": "code",
   "execution_count": null,
   "id": "dcd9b25f",
   "metadata": {},
   "outputs": [],
   "source": [
    "now.strftime(\"%Y-%m-%d %H:%M:%S\")"
   ]
  },
  {
   "cell_type": "code",
   "execution_count": null,
   "id": "9861a382",
   "metadata": {},
   "outputs": [],
   "source": [
    "rt = datetime.strptime(\"2022/04/01\", \"%Y/%m/%d\")"
   ]
  },
  {
   "cell_type": "code",
   "execution_count": null,
   "id": "b225e094",
   "metadata": {},
   "outputs": [],
   "source": [
    "for x in range(1,10):\n",
    "    rt = datetime.strptime(\"2022/04/0{}\".format(x), \"%Y/%m/%d\")\n",
    "    print(\"2022/04/0{}\".format(x), \"->\", rt.weekday())"
   ]
  },
  {
   "cell_type": "code",
   "execution_count": null,
   "id": "75275af3",
   "metadata": {},
   "outputs": [],
   "source": [
    "rt.weekday()"
   ]
  },
  {
   "cell_type": "code",
   "execution_count": null,
   "id": "45d87211",
   "metadata": {},
   "outputs": [],
   "source": [
    "import requests\n",
    "url= 'https://www.starbucks.co.kr/store/getStore.do?r=804IUG79N7'\n",
    "payload = {\n",
    "    'in_biz_cds' : '0',\n",
    "    'in_scodes' : '0',\n",
    "    'ins_lat' : '37.5627128',\n",
    "    'ins_lng' : '126.93279869999999',\n",
    "    'search_text' : '',\n",
    "    'p_sido_cd' : '01',\n",
    "    'p_gugun_cd' : '',\n",
    "    'in_distance' : '0',\n",
    "    'in_biz_cd' : '',\n",
    "    'isError' : 'true',\n",
    "    'searchType' : 'C',\n",
    "    'set_date' : '',\n",
    "    'all_store' : '0',\n",
    "    'T03' : '0',\n",
    "    'T01' : '0',\n",
    "    'T12' : '0',\n",
    "    'T09' : '0',\n",
    "    'T30' : '0',\n",
    "    'T05' : '0',\n",
    "    'T22' : '0',\n",
    "    'T21' : '0',\n",
    "    'T10' : '0',\n",
    "    'T36' : '0',\n",
    "    'P10' : '0',\n",
    "    'P50' : '0',\n",
    "    'P20' : '0',\n",
    "    'P60' : '0',\n",
    "    'P30' : '0',\n",
    "    'P70' : '0',\n",
    "    'P40' : '0',\n",
    "    'P80' : '0',\n",
    "    'whcroad_yn' : '0',\n",
    "    'P90' : '0',\n",
    "    'new_bool' : '0',\n",
    "    'iend' : '1000',\n",
    "    'rndCod' : 'V8UNZFKU44',}\n",
    "\n",
    "r = requests.post(url, data=payload)"
   ]
  },
  {
   "cell_type": "code",
   "execution_count": null,
   "id": "2111cc77",
   "metadata": {},
   "outputs": [],
   "source": [
    "rj = r.json()['list']\n",
    "# len(r.json()['list']) = 574\n",
    "rj"
   ]
  },
  {
   "cell_type": "code",
   "execution_count": null,
   "id": "40dfd79d",
   "metadata": {},
   "outputs": [],
   "source": [
    "for starb in rj:\n",
    "    print((starb['open_dt']))"
   ]
  },
  {
   "cell_type": "code",
   "execution_count": null,
   "id": "2124e9b3",
   "metadata": {},
   "outputs": [],
   "source": [
    "for starb in rj:\n",
    "    rtt = datetime.strptime(starb['open_dt'], \"%Y%m%d\")\n",
    "    print(rtt.weekday())"
   ]
  },
  {
   "cell_type": "code",
   "execution_count": null,
   "id": "4a0c2aa2",
   "metadata": {},
   "outputs": [],
   "source": [
    "rt = []\n",
    "for x in r.json()['list']:\n",
    "    rt.append(datetime.strptime(x['open_dt'], \"%Y%m%d\").weekday())\n",
    "    \n",
    "# rt = [datetime.strptime(x['open_dt'], \"%Y%m%d\").weekday() for x in r.json()['list']]"
   ]
  },
  {
   "cell_type": "code",
   "execution_count": null,
   "id": "14f43579",
   "metadata": {},
   "outputs": [],
   "source": [
    "len(rt)"
   ]
  },
  {
   "cell_type": "code",
   "execution_count": null,
   "id": "c562c894",
   "metadata": {},
   "outputs": [],
   "source": [
    "for x in range(7):\n",
    "    print (x, \"->\", rt.count(x))"
   ]
  },
  {
   "cell_type": "code",
   "execution_count": null,
   "id": "e9949570",
   "metadata": {},
   "outputs": [],
   "source": [
    "for date_, x in zip(\"월화수목금토일\", range(7)):\n",
    "    print(date_, \"->\", rt.count(x))"
   ]
  },
  {
   "cell_type": "code",
   "execution_count": null,
   "id": "8cef53b4",
   "metadata": {},
   "outputs": [],
   "source": [
    "dict(zip(range(7), \"월화수목금토일\"))[datetime.strptime(r.json()['list'][0]['open_dt'], \"%Y%m%d\").weekday()]"
   ]
  },
  {
   "cell_type": "code",
   "execution_count": null,
   "id": "bf16dd40",
   "metadata": {},
   "outputs": [],
   "source": [
    "dict(zip(range(7), \"월화수목금토일\"))"
   ]
  },
  {
   "cell_type": "code",
   "execution_count": null,
   "id": "eb47aeb9",
   "metadata": {},
   "outputs": [],
   "source": [
    "for x, y in zip(range(7), \"월화수목금토일\"):\n",
    "    print(x, y)"
   ]
  },
  {
   "cell_type": "markdown",
   "id": "9e233748",
   "metadata": {},
   "source": [
    "# 전국스타벅스 "
   ]
  },
  {
   "cell_type": "code",
   "execution_count": null,
   "id": "8b1da4bb",
   "metadata": {},
   "outputs": [],
   "source": [
    "url = \"https://www.starbucks.co.kr/store/getSidoList.do\""
   ]
  },
  {
   "cell_type": "code",
   "execution_count": null,
   "id": "6c77717f",
   "metadata": {},
   "outputs": [],
   "source": [
    "r = requests.post(url)"
   ]
  },
  {
   "cell_type": "code",
   "execution_count": null,
   "id": "178903d2",
   "metadata": {},
   "outputs": [],
   "source": [
    "for x in r.json()['list']:\n",
    "    print(x['sido_cd'])"
   ]
  },
  {
   "cell_type": "code",
   "execution_count": null,
   "id": "7bd43320",
   "metadata": {},
   "outputs": [],
   "source": [
    "[x['sido_cd'] for x in r.json()['list']]"
   ]
  },
  {
   "cell_type": "code",
   "execution_count": null,
   "id": "64cc4339",
   "metadata": {},
   "outputs": [],
   "source": [
    "star_url= 'https://www.starbucks.co.kr/store/getStore.do?r=804IUG79N7'\n",
    "payload = {\n",
    "    'in_biz_cds' : '0',\n",
    "    'in_scodes' : '0',\n",
    "    'ins_lat' : '37.5627128',\n",
    "    'ins_lng' : '126.93279869999999',\n",
    "    'search_text' : '',\n",
    "    'p_sido_cd' : '01',\n",
    "    'p_gugun_cd' : '',\n",
    "    'in_distance' : '0',\n",
    "    'in_biz_cd' : '',\n",
    "    'isError' : 'true',\n",
    "    'searchType' : 'C',\n",
    "    'set_date' : '',\n",
    "    'all_store' : '0',\n",
    "    'T03' : '0',\n",
    "    'T01' : '0',\n",
    "    'T12' : '0',\n",
    "    'T09' : '0',\n",
    "    'T30' : '0',\n",
    "    'T05' : '0',\n",
    "    'T22' : '0',\n",
    "    'T21' : '0',\n",
    "    'T10' : '0',\n",
    "    'T36' : '0',\n",
    "    'P10' : '0',\n",
    "    'P50' : '0',\n",
    "    'P20' : '0',\n",
    "    'P60' : '0',\n",
    "    'P30' : '0',\n",
    "    'P70' : '0',\n",
    "    'P40' : '0',\n",
    "    'P80' : '0',\n",
    "    'whcroad_yn' : '0',\n",
    "    'P90' : '0',\n",
    "    'new_bool' : '0',\n",
    "    'iend' : '1000',\n",
    "    'rndCod' : 'V8UNZFKU44',}\n",
    "final = list() #[]\n",
    "for x in r.json()['list']:\n",
    "    payload['p_sido_cd'] = x['sido_cd']\n",
    "    r2 = requests.post(star_url, data=payload)\n",
    "    final.extend(r2.json()['list'])"
   ]
  },
  {
   "cell_type": "code",
   "execution_count": null,
   "id": "0686fde5",
   "metadata": {},
   "outputs": [],
   "source": [
    "len(final)"
   ]
  },
  {
   "cell_type": "markdown",
   "id": "7f6d4328",
   "metadata": {},
   "source": [
    "## 전국 스타벅스R 매장 개수?"
   ]
  },
  {
   "cell_type": "code",
   "execution_count": null,
   "id": "b0d19e31",
   "metadata": {},
   "outputs": [],
   "source": [
    "ar = []\n",
    "for x in final:\n",
    "    if x['s_name'][-1:] == \"R\":\n",
    "        ar.append(x['s_name'])\n",
    "print(len(ar))\n",
    "ar"
   ]
  },
  {
   "cell_type": "code",
   "execution_count": null,
   "id": "63eca792",
   "metadata": {},
   "outputs": [],
   "source": [
    "cnt = 0\n",
    "for x in final:\n",
    "    if x['s_name'][-1] == \"R\":\n",
    "        cnt +=1\n",
    "        print(x['s_name'])"
   ]
  },
  {
   "cell_type": "code",
   "execution_count": null,
   "id": "111f6ae8",
   "metadata": {
    "scrolled": true
   },
   "outputs": [],
   "source": [
    "cnt = 0\n",
    "for x in final:\n",
    "    if x['s_name'][-2:] == \"DT\":\n",
    "        cnt +=1\n",
    "        print(x['s_name'])\n",
    "cnt"
   ]
  },
  {
   "cell_type": "code",
   "execution_count": null,
   "id": "6d60c710",
   "metadata": {},
   "outputs": [],
   "source": [
    "import pickle"
   ]
  },
  {
   "cell_type": "code",
   "execution_count": null,
   "id": "45a1a60f",
   "metadata": {},
   "outputs": [],
   "source": [
    "with open(\"./starbucks.pkl\", \"wb\") as f: # wb 저장할건데 바이너리방식으로 \n",
    "    pickle.dump(final,f)"
   ]
  },
  {
   "cell_type": "code",
   "execution_count": null,
   "id": "f7808809",
   "metadata": {},
   "outputs": [],
   "source": [
    "with open(\"./starbucks.pkl\", \"rb\") as f:\n",
    "    final2 = pickle.load(f)"
   ]
  },
  {
   "cell_type": "code",
   "execution_count": null,
   "id": "2efe6660",
   "metadata": {},
   "outputs": [],
   "source": [
    "final2"
   ]
  },
  {
   "cell_type": "code",
   "execution_count": null,
   "id": "b627b1bb",
   "metadata": {},
   "outputs": [],
   "source": [
    "x['open_dt'][:4] == \"2022\""
   ]
  },
  {
   "cell_type": "markdown",
   "id": "5cb35131",
   "metadata": {},
   "source": [
    "## 2022년도에 생긴 매장"
   ]
  },
  {
   "cell_type": "code",
   "execution_count": null,
   "id": "f21f3bb6",
   "metadata": {},
   "outputs": [],
   "source": [
    "for x in final:\n",
    "    if x['open_dt'][:4] == \"2022\":\n",
    "        print(\"매장 이름 : {} -> 매장 주소 :{}\".format(x['s_name'], x['addr']))"
   ]
  },
  {
   "cell_type": "code",
   "execution_count": null,
   "id": "90094a6c",
   "metadata": {},
   "outputs": [],
   "source": [
    "len([x for x in final if x['open_dt'][:4] == \"2022\"])"
   ]
  },
  {
   "cell_type": "markdown",
   "id": "13e0c52d",
   "metadata": {},
   "source": [
    "## f-string"
   ]
  },
  {
   "cell_type": "code",
   "execution_count": null,
   "id": "1f3e6fb3",
   "metadata": {},
   "outputs": [],
   "source": [
    "for x in final:\n",
    "    if x['open_dt'][:4] == \"2022\":\n",
    "        print(f\"매장 이름 : {x['s_name'] }-> 매장 주소 :{x['addr']}\")"
   ]
  },
  {
   "cell_type": "markdown",
   "id": "2b4fd1ce",
   "metadata": {},
   "source": [
    "## 파일을 남자, 여자 생성하고 옮겨줘\n",
    "## 파일에 적힌 금액을 남자 총금액, 여자 총금액을 뽑아줘\n",
    "\n",
    "#### 383103852670, 64101458996"
   ]
  },
  {
   "cell_type": "code",
   "execution_count": 2,
   "id": "0fc98101",
   "metadata": {},
   "outputs": [],
   "source": [
    "import os"
   ]
  },
  {
   "cell_type": "code",
   "execution_count": null,
   "id": "b213d45a",
   "metadata": {},
   "outputs": [],
   "source": [
    "for roots, dirs, files in os.walk(\"c:/20220103_lab/14.python/data\"):\n",
    "    for file in files:\n",
    "        print(roots + \"\\\\\" + file)"
   ]
  },
  {
   "cell_type": "code",
   "execution_count": null,
   "id": "ffb1d446",
   "metadata": {},
   "outputs": [],
   "source": [
    "f = open(r\"c:\\20220103_lab\\14.python\\bigbang.txt\", \"r\", encoding=\"cp949\")"
   ]
  },
  {
   "cell_type": "code",
   "execution_count": null,
   "id": "8081979f",
   "metadata": {},
   "outputs": [],
   "source": [
    "f.read()"
   ]
  },
  {
   "cell_type": "code",
   "execution_count": null,
   "id": "0990b3ee",
   "metadata": {},
   "outputs": [],
   "source": [
    "f.close()"
   ]
  },
  {
   "cell_type": "code",
   "execution_count": 3,
   "id": "ad3fe7c4",
   "metadata": {},
   "outputs": [],
   "source": [
    "import shutil"
   ]
  },
  {
   "cell_type": "code",
   "execution_count": null,
   "id": "9ec07ff5",
   "metadata": {},
   "outputs": [],
   "source": [
    "shutil.move(r\"c:\\20220103_lab\\bigbang.txt\", r\"c:\\20220103_lab\\14.python\\bigbang.txt\")"
   ]
  },
  {
   "cell_type": "code",
   "execution_count": null,
   "id": "1924a1a2",
   "metadata": {},
   "outputs": [],
   "source": [
    "os.path.isdir(\"./data/\")"
   ]
  },
  {
   "cell_type": "code",
   "execution_count": 4,
   "id": "98fc1062",
   "metadata": {},
   "outputs": [
    {
     "data": {
      "text/plain": [
       "'1'"
      ]
     },
     "execution_count": 4,
     "metadata": {},
     "output_type": "execute_result"
    }
   ],
   "source": [
    "adata = os.listdir(\"./data\")\n",
    "adata[4][13:14]"
   ]
  },
  {
   "cell_type": "code",
   "execution_count": null,
   "id": "428da836",
   "metadata": {},
   "outputs": [],
   "source": [
    "folder_list = [\"./data/man\", \"./data/woman\"]\n",
    "\n",
    "if os.path.isdir(\"./data/man\") & os.path.isdir(\"./data/woman\") == False:\n",
    "    for x in folder_list:\n",
    "        os.mkdir(x)"
   ]
  },
  {
   "cell_type": "code",
   "execution_count": 5,
   "id": "5612a022",
   "metadata": {},
   "outputs": [],
   "source": [
    "for x in adata:\n",
    "    if x[13:14] == \"1\" or x[13:14] == \"3\":\n",
    "        shutil.move(r\"c:\\20220103_lab\\14.python\\data\\{}\".format(x), r\"c:\\20220103_lab\\14.python\\data\\man\\{}\".format(x))\n",
    "    if x[13:14] == \"2\" or x[13:14] == \"4\":\n",
    "        shutil.move(r\"c:\\20220103_lab\\14.python\\data\\{}\".format(x), r\"c:\\20220103_lab\\14.python\\data\\woman\\{}\".format(x))"
   ]
  },
  {
   "cell_type": "code",
   "execution_count": 7,
   "id": "c9c4f466",
   "metadata": {},
   "outputs": [
    {
     "data": {
      "text/plain": [
       "'10,251'"
      ]
     },
     "execution_count": 7,
     "metadata": {},
     "output_type": "execute_result"
    }
   ],
   "source": [
    "k = open(r\"c:\\20220103_lab\\14.python\\data\\man\\강가연_19961123_3xxxxxx.txt\", \"r\")\n",
    "k.read()"
   ]
  },
  {
   "cell_type": "code",
   "execution_count": 8,
   "id": "afbf5c5f",
   "metadata": {},
   "outputs": [
    {
     "data": {
      "text/plain": [
       "'83,057'"
      ]
     },
     "execution_count": 8,
     "metadata": {},
     "output_type": "execute_result"
    }
   ],
   "source": [
    "l = open(r\"c:\\20220103_lab\\14.python\\data\\man\\강가인_19710304_1xxxxxx.txt\", \"r\")\n",
    "l.read()"
   ]
  },
  {
   "cell_type": "code",
   "execution_count": 52,
   "id": "3cb4ca4f",
   "metadata": {},
   "outputs": [],
   "source": [
    "kr = k.readlines()"
   ]
  },
  {
   "cell_type": "code",
   "execution_count": 53,
   "id": "b465abcf",
   "metadata": {
    "scrolled": true
   },
   "outputs": [],
   "source": [
    "lr = l.readlines()"
   ]
  },
  {
   "cell_type": "code",
   "execution_count": 50,
   "id": "3440c224",
   "metadata": {},
   "outputs": [
    {
     "name": "stdout",
     "output_type": "stream",
     "text": [
      "0\n"
     ]
    },
    {
     "data": {
      "text/plain": [
       "0"
      ]
     },
     "execution_count": 50,
     "metadata": {},
     "output_type": "execute_result"
    }
   ],
   "source": [
    "print(k.tell())\n",
    "k.seek(0)"
   ]
  },
  {
   "cell_type": "code",
   "execution_count": 51,
   "id": "ea6c8242",
   "metadata": {},
   "outputs": [
    {
     "name": "stdout",
     "output_type": "stream",
     "text": [
      "0\n"
     ]
    },
    {
     "data": {
      "text/plain": [
       "0"
      ]
     },
     "execution_count": 51,
     "metadata": {},
     "output_type": "execute_result"
    }
   ],
   "source": [
    "print(l.tell())\n",
    "l.seek(0)"
   ]
  },
  {
   "cell_type": "code",
   "execution_count": 62,
   "id": "33475ccd",
   "metadata": {},
   "outputs": [
    {
     "data": {
      "text/plain": [
       "['10,251']"
      ]
     },
     "execution_count": 62,
     "metadata": {},
     "output_type": "execute_result"
    }
   ],
   "source": [
    "kr"
   ]
  },
  {
   "cell_type": "code",
   "execution_count": 72,
   "id": "567b0b39",
   "metadata": {
    "scrolled": true
   },
   "outputs": [],
   "source": [
    "a = [kr, lr]"
   ]
  },
  {
   "cell_type": "code",
   "execution_count": 75,
   "id": "237bc38a",
   "metadata": {},
   "outputs": [],
   "source": [
    "b = kr + lr"
   ]
  },
  {
   "cell_type": "code",
   "execution_count": 97,
   "id": "a5b6a9ec",
   "metadata": {},
   "outputs": [
    {
     "data": {
      "text/plain": [
       "['10,251']"
      ]
     },
     "execution_count": 97,
     "metadata": {},
     "output_type": "execute_result"
    }
   ],
   "source": [
    "kr"
   ]
  },
  {
   "cell_type": "code",
   "execution_count": 102,
   "id": "7c12ac87",
   "metadata": {},
   "outputs": [],
   "source": [
    "mandata = os.listdir(\"./data/man\")"
   ]
  },
  {
   "cell_type": "code",
   "execution_count": 111,
   "id": "d8637538",
   "metadata": {},
   "outputs": [],
   "source": [
    "womandata = os.listdir(\"./data/woman\")"
   ]
  },
  {
   "cell_type": "code",
   "execution_count": 166,
   "id": "9e181ed1",
   "metadata": {
    "scrolled": true
   },
   "outputs": [
    {
     "name": "stdout",
     "output_type": "stream",
     "text": [
      "383103852670\n"
     ]
    }
   ],
   "source": [
    "ooo = []\n",
    "olol = []\n",
    "for x in mandata:\n",
    "        ooo = open(r\"c:\\20220103_lab\\14.python\\data\\man\\{}\".format(x), \"r\")\n",
    "        ooor = ooo.readline()\n",
    "        olol.append(int(pppr))\n",
    "print(sum(olol))"
   ]
  },
  {
   "cell_type": "code",
   "execution_count": 158,
   "id": "54e87ec9",
   "metadata": {},
   "outputs": [
    {
     "name": "stdout",
     "output_type": "stream",
     "text": [
      "64101458996\n"
     ]
    }
   ],
   "source": [
    "ppp = []\n",
    "plpl = []\n",
    "for x in womandata:\n",
    "        ppp = open(r\"c:\\20220103_lab\\14.python\\data\\woman\\{}\".format(x), \"r\")\n",
    "        pppr = ppp.readline().replace(\",\", \"\")\n",
    "        plpl.append(int(pppr))\n",
    "print(sum(plpl))"
   ]
  },
  {
   "cell_type": "code",
   "execution_count": null,
   "id": "bbc6d796",
   "metadata": {},
   "outputs": [],
   "source": []
  }
 ],
 "metadata": {
  "kernelspec": {
   "display_name": "Python 3 (ipykernel)",
   "language": "python",
   "name": "python3"
  },
  "language_info": {
   "codemirror_mode": {
    "name": "ipython",
    "version": 3
   },
   "file_extension": ".py",
   "mimetype": "text/x-python",
   "name": "python",
   "nbconvert_exporter": "python",
   "pygments_lexer": "ipython3",
   "version": "3.9.7"
  }
 },
 "nbformat": 4,
 "nbformat_minor": 5
}
