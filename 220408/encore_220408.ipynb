{
 "cells": [
  {
   "cell_type": "code",
   "execution_count": 1,
   "id": "b6b63cdb",
   "metadata": {},
   "outputs": [],
   "source": [
    "import requests\n",
    "from bs4 import BeautifulSoup"
   ]
  },
  {
   "cell_type": "code",
   "execution_count": 2,
   "id": "517d6296",
   "metadata": {},
   "outputs": [],
   "source": [
    "url = \"https://finance.naver.com/item/sise_day.naver?code=005930&page=1\""
   ]
  },
  {
   "cell_type": "code",
   "execution_count": 3,
   "id": "49ab8157",
   "metadata": {},
   "outputs": [],
   "source": [
    "head = {\"user-agent\" : \"Mozilla/5.0 (Windows NT 10.0; Win64; x64) AppleWebKit/537.36 (KHTML, like Gecko) Chrome/100.0.4896.57 Whale/3.14.133.23 Safari/537.36\"}"
   ]
  },
  {
   "cell_type": "code",
   "execution_count": 4,
   "id": "c0780551",
   "metadata": {},
   "outputs": [],
   "source": [
    "r = requests.get(url, headers=head)"
   ]
  },
  {
   "cell_type": "code",
   "execution_count": 5,
   "id": "9774a7f4",
   "metadata": {},
   "outputs": [
    {
     "data": {
      "text/plain": [
       "<html lang=\"ko\">\n",
       "<head>\n",
       "<meta content=\"text/html; charset=utf-8\" http-equiv=\"Content-Type\"/>\n",
       "<title>네이버 금융</title>\n",
       "<link href=\"https://ssl.pstatic.net/imgstock/static.pc/20220407160311/css/newstock.css\" rel=\"stylesheet\" type=\"text/css\"/>\n",
       "<link href=\"https://ssl.pstatic.net/imgstock/static.pc/20220407160311/css/common.css\" rel=\"stylesheet\" type=\"text/css\"/>\n",
       "<link href=\"https://ssl.pstatic.net/imgstock/static.pc/20220407160311/css/layout.css\" rel=\"stylesheet\" type=\"text/css\"/>\n",
       "<link href=\"https://ssl.pstatic.net/imgstock/static.pc/20220407160311/css/main.css\" rel=\"stylesheet\" type=\"text/css\"/>\n",
       "<link href=\"https://ssl.pstatic.net/imgstock/static.pc/20220407160311/css/newstock2.css\" rel=\"stylesheet\" type=\"text/css\"/>\n",
       "<link href=\"https://ssl.pstatic.net/imgstock/static.pc/20220407160311/css/newstock3.css\" rel=\"stylesheet\" type=\"text/css\"/>\n",
       "<link href=\"https://ssl.pstatic.net/imgstock/static.pc/20220407160311/css/world.css\" rel=\"stylesheet\" type=\"text/css\"/>\n",
       "</head>\n",
       "<body>\n",
       "<script language=\"JavaScript\">\n",
       "function mouseOver(obj){\n",
       "  obj.style.backgroundColor=\"#f6f4e5\";\n",
       "}\n",
       "function mouseOut(obj){\n",
       "  obj.style.backgroundColor=\"#ffffff\";\n",
       "}\n",
       "</script>\n",
       "<h4 class=\"tlline2\"><strong><span class=\"red03\">일별</span>시세</strong></h4>\n",
       "<table cellspacing=\"0\" class=\"type2\">\n",
       "<tr>\n",
       "<th>날짜</th>\n",
       "<th>종가</th>\n",
       "<th>전일비</th>\n",
       "<th>시가</th>\n",
       "<th>고가</th>\n",
       "<th>저가</th>\n",
       "<th>거래량</th>\n",
       "</tr>\n",
       "<tr>\n",
       "<td colspan=\"7\" height=\"8\"></td>\n",
       "</tr>\n",
       "<tr onmouseout=\"mouseOut(this)\" onmouseover=\"mouseOver(this)\">\n",
       "<td align=\"center\"><span class=\"tah p10 gray03\">2022.04.08</span></td>\n",
       "<td class=\"num\"><span class=\"tah p11\">67,800</span></td>\n",
       "<td class=\"num\">\n",
       "<img alt=\"하락\" height=\"6\" src=\"https://ssl.pstatic.net/imgstock/images/images4/ico_down.gif\" style=\"margin-right:4px;\" width=\"7\"/><span class=\"tah p11 nv01\">\n",
       "\t\t\t\t200\n",
       "\t\t\t\t</span>\n",
       "</td>\n",
       "<td class=\"num\"><span class=\"tah p11\">68,100</span></td>\n",
       "<td class=\"num\"><span class=\"tah p11\">68,300</span></td>\n",
       "<td class=\"num\"><span class=\"tah p11\">67,700</span></td>\n",
       "<td class=\"num\"><span class=\"tah p11\">15,356,599</span></td>\n",
       "</tr>\n",
       "<tr onmouseout=\"mouseOut(this)\" onmouseover=\"mouseOver(this)\">\n",
       "<td align=\"center\"><span class=\"tah p10 gray03\">2022.04.07</span></td>\n",
       "<td class=\"num\"><span class=\"tah p11\">68,000</span></td>\n",
       "<td class=\"num\">\n",
       "<img alt=\"하락\" height=\"6\" src=\"https://ssl.pstatic.net/imgstock/images/images4/ico_down.gif\" style=\"margin-right:4px;\" width=\"7\"/><span class=\"tah p11 nv01\">\n",
       "\t\t\t\t500\n",
       "\t\t\t\t</span>\n",
       "</td>\n",
       "<td class=\"num\"><span class=\"tah p11\">68,500</span></td>\n",
       "<td class=\"num\"><span class=\"tah p11\">68,500</span></td>\n",
       "<td class=\"num\"><span class=\"tah p11\">68,000</span></td>\n",
       "<td class=\"num\"><span class=\"tah p11\">20,683,327</span></td>\n",
       "</tr>\n",
       "<tr onmouseout=\"mouseOut(this)\" onmouseover=\"mouseOver(this)\">\n",
       "<td align=\"center\"><span class=\"tah p10 gray03\">2022.04.06</span></td>\n",
       "<td class=\"num\"><span class=\"tah p11\">68,500</span></td>\n",
       "<td class=\"num\">\n",
       "<img alt=\"하락\" height=\"6\" src=\"https://ssl.pstatic.net/imgstock/images/images4/ico_down.gif\" style=\"margin-right:4px;\" width=\"7\"/><span class=\"tah p11 nv01\">\n",
       "\t\t\t\t700\n",
       "\t\t\t\t</span>\n",
       "</td>\n",
       "<td class=\"num\"><span class=\"tah p11\">68,600</span></td>\n",
       "<td class=\"num\"><span class=\"tah p11\">68,800</span></td>\n",
       "<td class=\"num\"><span class=\"tah p11\">68,500</span></td>\n",
       "<td class=\"num\"><span class=\"tah p11\">15,517,308</span></td>\n",
       "</tr>\n",
       "<tr onmouseout=\"mouseOut(this)\" onmouseover=\"mouseOver(this)\">\n",
       "<td align=\"center\"><span class=\"tah p10 gray03\">2022.04.05</span></td>\n",
       "<td class=\"num\"><span class=\"tah p11\">69,200</span></td>\n",
       "<td class=\"num\">\n",
       "<img alt=\"하락\" height=\"6\" src=\"https://ssl.pstatic.net/imgstock/images/images4/ico_down.gif\" style=\"margin-right:4px;\" width=\"7\"/><span class=\"tah p11 nv01\">\n",
       "\t\t\t\t100\n",
       "\t\t\t\t</span>\n",
       "</td>\n",
       "<td class=\"num\"><span class=\"tah p11\">69,400</span></td>\n",
       "<td class=\"num\"><span class=\"tah p11\">69,600</span></td>\n",
       "<td class=\"num\"><span class=\"tah p11\">69,100</span></td>\n",
       "<td class=\"num\"><span class=\"tah p11\">8,467,248</span></td>\n",
       "</tr>\n",
       "<tr onmouseout=\"mouseOut(this)\" onmouseover=\"mouseOver(this)\">\n",
       "<td align=\"center\"><span class=\"tah p10 gray03\">2022.04.04</span></td>\n",
       "<td class=\"num\"><span class=\"tah p11\">69,300</span></td>\n",
       "<td class=\"num\">\n",
       "<img alt=\"상승\" height=\"6\" src=\"https://ssl.pstatic.net/imgstock/images/images4/ico_up.gif\" style=\"margin-right:4px;\" width=\"7\"/><span class=\"tah p11 red02\">\n",
       "\t\t\t\t200\n",
       "\t\t\t\t</span>\n",
       "</td>\n",
       "<td class=\"num\"><span class=\"tah p11\">68,900</span></td>\n",
       "<td class=\"num\"><span class=\"tah p11\">69,300</span></td>\n",
       "<td class=\"num\"><span class=\"tah p11\">68,600</span></td>\n",
       "<td class=\"num\"><span class=\"tah p11\">11,107,905</span></td>\n",
       "</tr>\n",
       "<tr>\n",
       "<td colspan=\"7\" height=\"8\"></td>\n",
       "</tr>\n",
       "<tr>\n",
       "<td bgcolor=\"#e1e1e1\" colspan=\"7\" height=\"1\"></td>\n",
       "</tr>\n",
       "<tr>\n",
       "<td colspan=\"7\" height=\"8\"></td>\n",
       "</tr>\n",
       "<tr onmouseout=\"mouseOut(this)\" onmouseover=\"mouseOver(this)\">\n",
       "<td align=\"center\"><span class=\"tah p10 gray03\">2022.04.01</span></td>\n",
       "<td class=\"num\"><span class=\"tah p11\">69,100</span></td>\n",
       "<td class=\"num\">\n",
       "<img alt=\"하락\" height=\"6\" src=\"https://ssl.pstatic.net/imgstock/images/images4/ico_down.gif\" style=\"margin-right:4px;\" width=\"7\"/><span class=\"tah p11 nv01\">\n",
       "\t\t\t\t500\n",
       "\t\t\t\t</span>\n",
       "</td>\n",
       "<td class=\"num\"><span class=\"tah p11\">69,500</span></td>\n",
       "<td class=\"num\"><span class=\"tah p11\">69,500</span></td>\n",
       "<td class=\"num\"><span class=\"tah p11\">69,000</span></td>\n",
       "<td class=\"num\"><span class=\"tah p11\">15,916,846</span></td>\n",
       "</tr>\n",
       "<tr onmouseout=\"mouseOut(this)\" onmouseover=\"mouseOver(this)\">\n",
       "<td align=\"center\"><span class=\"tah p10 gray03\">2022.03.31</span></td>\n",
       "<td class=\"num\"><span class=\"tah p11\">69,600</span></td>\n",
       "<td class=\"num\">\n",
       "<img alt=\"하락\" height=\"6\" src=\"https://ssl.pstatic.net/imgstock/images/images4/ico_down.gif\" style=\"margin-right:4px;\" width=\"7\"/><span class=\"tah p11 nv01\">\n",
       "\t\t\t\t300\n",
       "\t\t\t\t</span>\n",
       "</td>\n",
       "<td class=\"num\"><span class=\"tah p11\">69,900</span></td>\n",
       "<td class=\"num\"><span class=\"tah p11\">70,200</span></td>\n",
       "<td class=\"num\"><span class=\"tah p11\">69,600</span></td>\n",
       "<td class=\"num\"><span class=\"tah p11\">12,510,366</span></td>\n",
       "</tr>\n",
       "<tr onmouseout=\"mouseOut(this)\" onmouseover=\"mouseOver(this)\">\n",
       "<td align=\"center\"><span class=\"tah p10 gray03\">2022.03.30</span></td>\n",
       "<td class=\"num\"><span class=\"tah p11\">69,900</span></td>\n",
       "<td class=\"num\">\n",
       "<img alt=\"하락\" height=\"6\" src=\"https://ssl.pstatic.net/imgstock/images/images4/ico_down.gif\" style=\"margin-right:4px;\" width=\"7\"/><span class=\"tah p11 nv01\">\n",
       "\t\t\t\t300\n",
       "\t\t\t\t</span>\n",
       "</td>\n",
       "<td class=\"num\"><span class=\"tah p11\">70,300</span></td>\n",
       "<td class=\"num\"><span class=\"tah p11\">70,500</span></td>\n",
       "<td class=\"num\"><span class=\"tah p11\">69,800</span></td>\n",
       "<td class=\"num\"><span class=\"tah p11\">12,670,187</span></td>\n",
       "</tr>\n",
       "<tr onmouseout=\"mouseOut(this)\" onmouseover=\"mouseOver(this)\">\n",
       "<td align=\"center\"><span class=\"tah p10 gray03\">2022.03.29</span></td>\n",
       "<td class=\"num\"><span class=\"tah p11\">70,200</span></td>\n",
       "<td class=\"num\">\n",
       "<img alt=\"상승\" height=\"6\" src=\"https://ssl.pstatic.net/imgstock/images/images4/ico_up.gif\" style=\"margin-right:4px;\" width=\"7\"/><span class=\"tah p11 red02\">\n",
       "\t\t\t\t500\n",
       "\t\t\t\t</span>\n",
       "</td>\n",
       "<td class=\"num\"><span class=\"tah p11\">70,000</span></td>\n",
       "<td class=\"num\"><span class=\"tah p11\">70,300</span></td>\n",
       "<td class=\"num\"><span class=\"tah p11\">69,800</span></td>\n",
       "<td class=\"num\"><span class=\"tah p11\">13,686,208</span></td>\n",
       "</tr>\n",
       "<tr onmouseout=\"mouseOut(this)\" onmouseover=\"mouseOver(this)\">\n",
       "<td align=\"center\"><span class=\"tah p10 gray03\">2022.03.28</span></td>\n",
       "<td class=\"num\"><span class=\"tah p11\">69,700</span></td>\n",
       "<td class=\"num\">\n",
       "<img alt=\"하락\" height=\"6\" src=\"https://ssl.pstatic.net/imgstock/images/images4/ico_down.gif\" style=\"margin-right:4px;\" width=\"7\"/><span class=\"tah p11 nv01\">\n",
       "\t\t\t\t100\n",
       "\t\t\t\t</span>\n",
       "</td>\n",
       "<td class=\"num\"><span class=\"tah p11\">69,500</span></td>\n",
       "<td class=\"num\"><span class=\"tah p11\">69,900</span></td>\n",
       "<td class=\"num\"><span class=\"tah p11\">69,200</span></td>\n",
       "<td class=\"num\"><span class=\"tah p11\">12,619,289</span></td>\n",
       "</tr>\n",
       "<tr>\n",
       "<td colspan=\"7\" height=\"8\"></td>\n",
       "</tr>\n",
       "</table>\n",
       "<!--- 페이지 네비게이션 시작--->\n",
       "<table align=\"center\" class=\"Nnavi\" summary=\"페이지 네비게이션 리스트\">\n",
       "<caption>페이지 네비게이션</caption>\n",
       "<tr>\n",
       "<td class=\"on\">\n",
       "<a href=\"/item/sise_day.naver?code=005930&amp;page=1\">1</a>\n",
       "</td>\n",
       "<td>\n",
       "<a href=\"/item/sise_day.naver?code=005930&amp;page=2\">2</a>\n",
       "</td>\n",
       "<td>\n",
       "<a href=\"/item/sise_day.naver?code=005930&amp;page=3\">3</a>\n",
       "</td>\n",
       "<td>\n",
       "<a href=\"/item/sise_day.naver?code=005930&amp;page=4\">4</a>\n",
       "</td>\n",
       "<td>\n",
       "<a href=\"/item/sise_day.naver?code=005930&amp;page=5\">5</a>\n",
       "</td>\n",
       "<td>\n",
       "<a href=\"/item/sise_day.naver?code=005930&amp;page=6\">6</a>\n",
       "</td>\n",
       "<td>\n",
       "<a href=\"/item/sise_day.naver?code=005930&amp;page=7\">7</a>\n",
       "</td>\n",
       "<td>\n",
       "<a href=\"/item/sise_day.naver?code=005930&amp;page=8\">8</a>\n",
       "</td>\n",
       "<td>\n",
       "<a href=\"/item/sise_day.naver?code=005930&amp;page=9\">9</a>\n",
       "</td>\n",
       "<td>\n",
       "<a href=\"/item/sise_day.naver?code=005930&amp;page=10\">10</a>\n",
       "</td>\n",
       "<td class=\"pgR\">\n",
       "<a href=\"/item/sise_day.naver?code=005930&amp;page=11\">\n",
       "\t\t\t\t다음<img alt=\"\" border=\"0\" height=\"5\" src=\"https://ssl.pstatic.net/static/n/cmn/bu_pgarR.gif\" width=\"3\"/>\n",
       "</a>\n",
       "</td>\n",
       "<td class=\"pgRR\">\n",
       "<a href=\"/item/sise_day.naver?code=005930&amp;page=648\">맨뒤\n",
       "\t\t\t\t<img alt=\"\" border=\"0\" height=\"5\" src=\"https://ssl.pstatic.net/static/n/cmn/bu_pgarRR.gif\" width=\"8\"/>\n",
       "</a>\n",
       "</td>\n",
       "</tr>\n",
       "</table>\n",
       "<!--- 페이지 네비게이션 끝--->\n",
       "<script src=\"https://ssl.pstatic.net/imgstock/static.pc/20220407160311/js/jindo.min.ns.1.5.3.euckr.js\" type=\"text/javascript\"></script>\n",
       "<script src=\"https://ssl.pstatic.net/imgstock/static.pc/20220407160311/js/lcslog.js\" type=\"text/javascript\"></script>\n",
       "<script type=\"text/javascript\">\n",
       "        ;(function(){\n",
       "            var eventType = \"onpageshow\" in window ? \"pageshow\" : \"load\";\n",
       "            jindo.$Fn(function(){\n",
       "                lcs_do();\n",
       "            }).attach(window, eventType);\n",
       "        })();\n",
       "\t</script>\n",
       "</body></html>"
      ]
     },
     "execution_count": 5,
     "metadata": {},
     "output_type": "execute_result"
    }
   ],
   "source": [
    "bs = BeautifulSoup(r.text, 'lxml')\n",
    "bs"
   ]
  },
  {
   "cell_type": "markdown",
   "id": "af8bd5f4",
   "metadata": {},
   "source": [
    "## 데이터 파싱하기\n",
    "- 일 데이터를 하나의 list 담고 그 데이터를 전체 리스터 담는 구조\n",
    "- [ [], [], [], [] ]"
   ]
  },
  {
   "cell_type": "code",
   "execution_count": 6,
   "id": "ff854989",
   "metadata": {},
   "outputs": [
    {
     "name": "stdout",
     "output_type": "stream",
     "text": [
      "0 <tr onmouseout=\"mouseOut(this)\" onmouseover=\"mouseOver(this)\">\n",
      "<td align=\"center\"><span class=\"tah p10 gray03\">2022.04.08</span></td>\n",
      "<td class=\"num\"><span class=\"tah p11\">67,800</span></td>\n",
      "<td class=\"num\">\n",
      "<img alt=\"하락\" height=\"6\" src=\"https://ssl.pstatic.net/imgstock/images/images4/ico_down.gif\" style=\"margin-right:4px;\" width=\"7\"/><span class=\"tah p11 nv01\">\n",
      "\t\t\t\t200\n",
      "\t\t\t\t</span>\n",
      "</td>\n",
      "<td class=\"num\"><span class=\"tah p11\">68,100</span></td>\n",
      "<td class=\"num\"><span class=\"tah p11\">68,300</span></td>\n",
      "<td class=\"num\"><span class=\"tah p11\">67,700</span></td>\n",
      "<td class=\"num\"><span class=\"tah p11\">15,356,599</span></td>\n",
      "</tr>\n",
      "--------------\n",
      "1 <tr onmouseout=\"mouseOut(this)\" onmouseover=\"mouseOver(this)\">\n",
      "<td align=\"center\"><span class=\"tah p10 gray03\">2022.04.07</span></td>\n",
      "<td class=\"num\"><span class=\"tah p11\">68,000</span></td>\n",
      "<td class=\"num\">\n",
      "<img alt=\"하락\" height=\"6\" src=\"https://ssl.pstatic.net/imgstock/images/images4/ico_down.gif\" style=\"margin-right:4px;\" width=\"7\"/><span class=\"tah p11 nv01\">\n",
      "\t\t\t\t500\n",
      "\t\t\t\t</span>\n",
      "</td>\n",
      "<td class=\"num\"><span class=\"tah p11\">68,500</span></td>\n",
      "<td class=\"num\"><span class=\"tah p11\">68,500</span></td>\n",
      "<td class=\"num\"><span class=\"tah p11\">68,000</span></td>\n",
      "<td class=\"num\"><span class=\"tah p11\">20,683,327</span></td>\n",
      "</tr>\n",
      "--------------\n",
      "2 <tr onmouseout=\"mouseOut(this)\" onmouseover=\"mouseOver(this)\">\n",
      "<td align=\"center\"><span class=\"tah p10 gray03\">2022.04.06</span></td>\n",
      "<td class=\"num\"><span class=\"tah p11\">68,500</span></td>\n",
      "<td class=\"num\">\n",
      "<img alt=\"하락\" height=\"6\" src=\"https://ssl.pstatic.net/imgstock/images/images4/ico_down.gif\" style=\"margin-right:4px;\" width=\"7\"/><span class=\"tah p11 nv01\">\n",
      "\t\t\t\t700\n",
      "\t\t\t\t</span>\n",
      "</td>\n",
      "<td class=\"num\"><span class=\"tah p11\">68,600</span></td>\n",
      "<td class=\"num\"><span class=\"tah p11\">68,800</span></td>\n",
      "<td class=\"num\"><span class=\"tah p11\">68,500</span></td>\n",
      "<td class=\"num\"><span class=\"tah p11\">15,517,308</span></td>\n",
      "</tr>\n",
      "--------------\n",
      "3 <tr onmouseout=\"mouseOut(this)\" onmouseover=\"mouseOver(this)\">\n",
      "<td align=\"center\"><span class=\"tah p10 gray03\">2022.04.05</span></td>\n",
      "<td class=\"num\"><span class=\"tah p11\">69,200</span></td>\n",
      "<td class=\"num\">\n",
      "<img alt=\"하락\" height=\"6\" src=\"https://ssl.pstatic.net/imgstock/images/images4/ico_down.gif\" style=\"margin-right:4px;\" width=\"7\"/><span class=\"tah p11 nv01\">\n",
      "\t\t\t\t100\n",
      "\t\t\t\t</span>\n",
      "</td>\n",
      "<td class=\"num\"><span class=\"tah p11\">69,400</span></td>\n",
      "<td class=\"num\"><span class=\"tah p11\">69,600</span></td>\n",
      "<td class=\"num\"><span class=\"tah p11\">69,100</span></td>\n",
      "<td class=\"num\"><span class=\"tah p11\">8,467,248</span></td>\n",
      "</tr>\n",
      "--------------\n",
      "4 <tr onmouseout=\"mouseOut(this)\" onmouseover=\"mouseOver(this)\">\n",
      "<td align=\"center\"><span class=\"tah p10 gray03\">2022.04.04</span></td>\n",
      "<td class=\"num\"><span class=\"tah p11\">69,300</span></td>\n",
      "<td class=\"num\">\n",
      "<img alt=\"상승\" height=\"6\" src=\"https://ssl.pstatic.net/imgstock/images/images4/ico_up.gif\" style=\"margin-right:4px;\" width=\"7\"/><span class=\"tah p11 red02\">\n",
      "\t\t\t\t200\n",
      "\t\t\t\t</span>\n",
      "</td>\n",
      "<td class=\"num\"><span class=\"tah p11\">68,900</span></td>\n",
      "<td class=\"num\"><span class=\"tah p11\">69,300</span></td>\n",
      "<td class=\"num\"><span class=\"tah p11\">68,600</span></td>\n",
      "<td class=\"num\"><span class=\"tah p11\">11,107,905</span></td>\n",
      "</tr>\n",
      "--------------\n",
      "5 <tr>\n",
      "<td colspan=\"7\" height=\"8\"></td>\n",
      "</tr>\n",
      "--------------\n",
      "6 <tr>\n",
      "<td bgcolor=\"#e1e1e1\" colspan=\"7\" height=\"1\"></td>\n",
      "</tr>\n",
      "--------------\n",
      "7 <tr>\n",
      "<td colspan=\"7\" height=\"8\"></td>\n",
      "</tr>\n",
      "--------------\n",
      "8 <tr onmouseout=\"mouseOut(this)\" onmouseover=\"mouseOver(this)\">\n",
      "<td align=\"center\"><span class=\"tah p10 gray03\">2022.04.01</span></td>\n",
      "<td class=\"num\"><span class=\"tah p11\">69,100</span></td>\n",
      "<td class=\"num\">\n",
      "<img alt=\"하락\" height=\"6\" src=\"https://ssl.pstatic.net/imgstock/images/images4/ico_down.gif\" style=\"margin-right:4px;\" width=\"7\"/><span class=\"tah p11 nv01\">\n",
      "\t\t\t\t500\n",
      "\t\t\t\t</span>\n",
      "</td>\n",
      "<td class=\"num\"><span class=\"tah p11\">69,500</span></td>\n",
      "<td class=\"num\"><span class=\"tah p11\">69,500</span></td>\n",
      "<td class=\"num\"><span class=\"tah p11\">69,000</span></td>\n",
      "<td class=\"num\"><span class=\"tah p11\">15,916,846</span></td>\n",
      "</tr>\n",
      "--------------\n",
      "9 <tr onmouseout=\"mouseOut(this)\" onmouseover=\"mouseOver(this)\">\n",
      "<td align=\"center\"><span class=\"tah p10 gray03\">2022.03.31</span></td>\n",
      "<td class=\"num\"><span class=\"tah p11\">69,600</span></td>\n",
      "<td class=\"num\">\n",
      "<img alt=\"하락\" height=\"6\" src=\"https://ssl.pstatic.net/imgstock/images/images4/ico_down.gif\" style=\"margin-right:4px;\" width=\"7\"/><span class=\"tah p11 nv01\">\n",
      "\t\t\t\t300\n",
      "\t\t\t\t</span>\n",
      "</td>\n",
      "<td class=\"num\"><span class=\"tah p11\">69,900</span></td>\n",
      "<td class=\"num\"><span class=\"tah p11\">70,200</span></td>\n",
      "<td class=\"num\"><span class=\"tah p11\">69,600</span></td>\n",
      "<td class=\"num\"><span class=\"tah p11\">12,510,366</span></td>\n",
      "</tr>\n",
      "--------------\n",
      "10 <tr onmouseout=\"mouseOut(this)\" onmouseover=\"mouseOver(this)\">\n",
      "<td align=\"center\"><span class=\"tah p10 gray03\">2022.03.30</span></td>\n",
      "<td class=\"num\"><span class=\"tah p11\">69,900</span></td>\n",
      "<td class=\"num\">\n",
      "<img alt=\"하락\" height=\"6\" src=\"https://ssl.pstatic.net/imgstock/images/images4/ico_down.gif\" style=\"margin-right:4px;\" width=\"7\"/><span class=\"tah p11 nv01\">\n",
      "\t\t\t\t300\n",
      "\t\t\t\t</span>\n",
      "</td>\n",
      "<td class=\"num\"><span class=\"tah p11\">70,300</span></td>\n",
      "<td class=\"num\"><span class=\"tah p11\">70,500</span></td>\n",
      "<td class=\"num\"><span class=\"tah p11\">69,800</span></td>\n",
      "<td class=\"num\"><span class=\"tah p11\">12,670,187</span></td>\n",
      "</tr>\n",
      "--------------\n",
      "11 <tr onmouseout=\"mouseOut(this)\" onmouseover=\"mouseOver(this)\">\n",
      "<td align=\"center\"><span class=\"tah p10 gray03\">2022.03.29</span></td>\n",
      "<td class=\"num\"><span class=\"tah p11\">70,200</span></td>\n",
      "<td class=\"num\">\n",
      "<img alt=\"상승\" height=\"6\" src=\"https://ssl.pstatic.net/imgstock/images/images4/ico_up.gif\" style=\"margin-right:4px;\" width=\"7\"/><span class=\"tah p11 red02\">\n",
      "\t\t\t\t500\n",
      "\t\t\t\t</span>\n",
      "</td>\n",
      "<td class=\"num\"><span class=\"tah p11\">70,000</span></td>\n",
      "<td class=\"num\"><span class=\"tah p11\">70,300</span></td>\n",
      "<td class=\"num\"><span class=\"tah p11\">69,800</span></td>\n",
      "<td class=\"num\"><span class=\"tah p11\">13,686,208</span></td>\n",
      "</tr>\n",
      "--------------\n",
      "12 <tr onmouseout=\"mouseOut(this)\" onmouseover=\"mouseOver(this)\">\n",
      "<td align=\"center\"><span class=\"tah p10 gray03\">2022.03.28</span></td>\n",
      "<td class=\"num\"><span class=\"tah p11\">69,700</span></td>\n",
      "<td class=\"num\">\n",
      "<img alt=\"하락\" height=\"6\" src=\"https://ssl.pstatic.net/imgstock/images/images4/ico_down.gif\" style=\"margin-right:4px;\" width=\"7\"/><span class=\"tah p11 nv01\">\n",
      "\t\t\t\t100\n",
      "\t\t\t\t</span>\n",
      "</td>\n",
      "<td class=\"num\"><span class=\"tah p11\">69,500</span></td>\n",
      "<td class=\"num\"><span class=\"tah p11\">69,900</span></td>\n",
      "<td class=\"num\"><span class=\"tah p11\">69,200</span></td>\n",
      "<td class=\"num\"><span class=\"tah p11\">12,619,289</span></td>\n",
      "</tr>\n",
      "--------------\n",
      "13 <tr>\n",
      "<td colspan=\"7\" height=\"8\"></td>\n",
      "</tr>\n",
      "--------------\n"
     ]
    }
   ],
   "source": [
    "for idx, x in enumerate(bs.find(\"table\").findAll(\"tr\")[2:]): #시퀀스형 데이터(여러 객체를 저장하는 자료형)\n",
    "    print(idx, x)\n",
    "    print(\"--------------\")"
   ]
  },
  {
   "cell_type": "code",
   "execution_count": 7,
   "id": "5c821a4b",
   "metadata": {},
   "outputs": [
    {
     "data": {
      "text/plain": [
       "['2022.04.08', '67,800', '200', '68,100', '68,300', '67,700', '15,356,599']"
      ]
     },
     "execution_count": 7,
     "metadata": {},
     "output_type": "execute_result"
    }
   ],
   "source": [
    "[x.text.strip() for x in bs.find(\"table\").findAll(\"tr\")[2].findAll(\"td\")]"
   ]
  },
  {
   "cell_type": "code",
   "execution_count": 8,
   "id": "452a4d65",
   "metadata": {},
   "outputs": [
    {
     "name": "stdout",
     "output_type": "stream",
     "text": [
      "[<td colspan=\"7\" height=\"8\"></td>]\n"
     ]
    },
    {
     "data": {
      "text/plain": [
       "1"
      ]
     },
     "execution_count": 8,
     "metadata": {},
     "output_type": "execute_result"
    }
   ],
   "source": [
    "print(bs.find(\"table\").findAll(\"tr\")[7].findAll(\"td\"))\n",
    "len(bs.find(\"table\").findAll(\"tr\")[7].findAll(\"td\"))"
   ]
  },
  {
   "cell_type": "code",
   "execution_count": 9,
   "id": "dcc0ac7c",
   "metadata": {},
   "outputs": [
    {
     "data": {
      "text/plain": [
       "[['2022.04.08', '67,800', '200', '68,100', '68,300', '67,700', '15,356,599'],\n",
       " ['2022.04.07', '68,000', '500', '68,500', '68,500', '68,000', '20,683,327'],\n",
       " ['2022.04.06', '68,500', '700', '68,600', '68,800', '68,500', '15,517,308'],\n",
       " ['2022.04.05', '69,200', '100', '69,400', '69,600', '69,100', '8,467,248'],\n",
       " ['2022.04.04', '69,300', '200', '68,900', '69,300', '68,600', '11,107,905'],\n",
       " ['2022.04.01', '69,100', '500', '69,500', '69,500', '69,000', '15,916,846'],\n",
       " ['2022.03.31', '69,600', '300', '69,900', '70,200', '69,600', '12,510,366'],\n",
       " ['2022.03.30', '69,900', '300', '70,300', '70,500', '69,800', '12,670,187'],\n",
       " ['2022.03.29', '70,200', '500', '70,000', '70,300', '69,800', '13,686,208'],\n",
       " ['2022.03.28', '69,700', '100', '69,500', '69,900', '69,200', '12,619,289']]"
      ]
     },
     "execution_count": 9,
     "metadata": {},
     "output_type": "execute_result"
    }
   ],
   "source": [
    "# 틀린코드\n",
    "# for idx, x in enumerate(bs.find(\"table\").findAll(\"tr\")[2:]):\n",
    "#     if len(x.findAll(\"td\")) > 1:\n",
    "#         print ([x.text.strip() for x in bs.find(\"table\").findAll(\"tr\")[2].findAll(\"td\")])\n",
    "tmp = []\n",
    "for idx, x in enumerate(bs.find(\"table\").findAll(\"tr\")[2:]):\n",
    "    if len(x.findAll(\"td\")) > 1:\n",
    "        tmp.append ([x.text.strip() for x in x.findAll(\"td\")])\n",
    "tmp"
   ]
  },
  {
   "cell_type": "code",
   "execution_count": 10,
   "id": "bda00c0c",
   "metadata": {},
   "outputs": [
    {
     "data": {
      "text/plain": [
       "[['2022.04.08', '67,800', '200', '68,100', '68,300', '67,700', '15,356,599'],\n",
       " ['2022.04.07', '68,000', '500', '68,500', '68,500', '68,000', '20,683,327'],\n",
       " ['2022.04.06', '68,500', '700', '68,600', '68,800', '68,500', '15,517,308'],\n",
       " ['2022.04.05', '69,200', '100', '69,400', '69,600', '69,100', '8,467,248'],\n",
       " ['2022.04.04', '69,300', '200', '68,900', '69,300', '68,600', '11,107,905'],\n",
       " ['2022.04.01', '69,100', '500', '69,500', '69,500', '69,000', '15,916,846'],\n",
       " ['2022.03.31', '69,600', '300', '69,900', '70,200', '69,600', '12,510,366'],\n",
       " ['2022.03.30', '69,900', '300', '70,300', '70,500', '69,800', '12,670,187'],\n",
       " ['2022.03.29', '70,200', '500', '70,000', '70,300', '69,800', '13,686,208'],\n",
       " ['2022.03.28', '69,700', '100', '69,500', '69,900', '69,200', '12,619,289']]"
      ]
     },
     "execution_count": 10,
     "metadata": {},
     "output_type": "execute_result"
    }
   ],
   "source": [
    "tmp2 = [[x.text.strip() for x in x.findAll(\"td\")] for idx, x in enumerate(bs.find(\"table\").findAll(\"tr\")[2:]) if len(x.findAll(\"td\")) > 1]\n",
    "tmp2"
   ]
  },
  {
   "cell_type": "code",
   "execution_count": 11,
   "id": "a66f3fbd",
   "metadata": {},
   "outputs": [],
   "source": [
    "# 종목도 바꾸고 페이지도 바꾸고 싶을때?\n",
    "url = \"https://finance.naver.com/item/sise_day.naver?code={}&page={}\"\n",
    "# 005930"
   ]
  },
  {
   "cell_type": "markdown",
   "id": "00686ed7",
   "metadata": {},
   "source": [
    "### 사용자 함수 만들기\n",
    "* 사용자한테 종목 코드와 페이지 번호를 받으면 데이터를 파싱해서 리스트 형태로 리턴한다."
   ]
  },
  {
   "cell_type": "code",
   "execution_count": 12,
   "id": "f3487315",
   "metadata": {},
   "outputs": [],
   "source": [
    "def get_stock_day(code, page):\n",
    "    url = \"https://finance.naver.com/item/sise_day.naver?code={}&page={}\"\n",
    "    r = requests.get(url.format(code, page), headers=head)\n",
    "    bs = BeautifulSoup(r.text, 'lxml')\n",
    "    return [[x.text.strip() for x in x.findAll(\"td\")] for idx, x in enumerate(bs.find(\"table\").findAll(\"tr\")[2:]) if len(x.findAll(\"td\")) > 1]"
   ]
  },
  {
   "cell_type": "code",
   "execution_count": 13,
   "id": "7834f384",
   "metadata": {},
   "outputs": [
    {
     "data": {
      "text/plain": [
       "[['2022.03.25', '69,800', '0', '70,100', '70,200', '69,600', '12,986,010'],\n",
       " ['2022.03.24', '69,800', '700', '69,600', '70,300', '69,600', '37,943,357'],\n",
       " ['2022.03.23', '70,500', '200', '70,600', '71,200', '70,300', '12,398,025'],\n",
       " ['2022.03.22', '70,300', '400', '69,900', '70,500', '69,900', '9,402,666'],\n",
       " ['2022.03.21', '69,900', '800', '70,900', '71,000', '69,900', '11,169,002'],\n",
       " ['2022.03.18', '70,700', '500', '70,600', '70,900', '70,200', '14,410,038'],\n",
       " ['2022.03.17', '71,200', '800', '71,200', '71,800', '70,900', '17,646,315'],\n",
       " ['2022.03.16', '70,400', '900', '70,200', '70,500', '69,700', '10,175,750'],\n",
       " ['2022.03.15', '69,500', '700', '69,800', '70,100', '69,500', '10,258,562'],\n",
       " ['2022.03.14', '70,200', '200', '70,000', '70,200', '69,600', '9,040,993']]"
      ]
     },
     "execution_count": 13,
     "metadata": {},
     "output_type": "execute_result"
    }
   ],
   "source": [
    "get_stock_day(\"005930\", \"2\")"
   ]
  },
  {
   "cell_type": "code",
   "execution_count": 14,
   "id": "fb1ddd25",
   "metadata": {},
   "outputs": [],
   "source": [
    "total = []\n",
    "for x in range(1, 11):\n",
    "    total.extend(get_stock_day(\"005930\", x))"
   ]
  },
  {
   "cell_type": "code",
   "execution_count": 15,
   "id": "6d4597fd",
   "metadata": {},
   "outputs": [
    {
     "data": {
      "text/plain": [
       "100"
      ]
     },
     "execution_count": 15,
     "metadata": {},
     "output_type": "execute_result"
    }
   ],
   "source": [
    "len(total)"
   ]
  },
  {
   "cell_type": "code",
   "execution_count": 16,
   "id": "a91f0ed0",
   "metadata": {
    "scrolled": true
   },
   "outputs": [
    {
     "data": {
      "text/plain": [
       "[['2022.04.08', '67,800', '200', '68,100', '68,300', '67,700', '15,356,599'],\n",
       " ['2022.04.07', '68,000', '500', '68,500', '68,500', '68,000', '20,683,327'],\n",
       " ['2022.04.06', '68,500', '700', '68,600', '68,800', '68,500', '15,517,308'],\n",
       " ['2022.04.05', '69,200', '100', '69,400', '69,600', '69,100', '8,467,248'],\n",
       " ['2022.04.04', '69,300', '200', '68,900', '69,300', '68,600', '11,107,905'],\n",
       " ['2022.04.01', '69,100', '500', '69,500', '69,500', '69,000', '15,916,846'],\n",
       " ['2022.03.31', '69,600', '300', '69,900', '70,200', '69,600', '12,510,366'],\n",
       " ['2022.03.30', '69,900', '300', '70,300', '70,500', '69,800', '12,670,187'],\n",
       " ['2022.03.29', '70,200', '500', '70,000', '70,300', '69,800', '13,686,208'],\n",
       " ['2022.03.28', '69,700', '100', '69,500', '69,900', '69,200', '12,619,289'],\n",
       " ['2022.03.25', '69,800', '0', '70,100', '70,200', '69,600', '12,986,010'],\n",
       " ['2022.03.24', '69,800', '700', '69,600', '70,300', '69,600', '37,943,357'],\n",
       " ['2022.03.23', '70,500', '200', '70,600', '71,200', '70,300', '12,398,025'],\n",
       " ['2022.03.22', '70,300', '400', '69,900', '70,500', '69,900', '9,402,666'],\n",
       " ['2022.03.21', '69,900', '800', '70,900', '71,000', '69,900', '11,169,002'],\n",
       " ['2022.03.18', '70,700', '500', '70,600', '70,900', '70,200', '14,410,038'],\n",
       " ['2022.03.17', '71,200', '800', '71,200', '71,800', '70,900', '17,646,315'],\n",
       " ['2022.03.16', '70,400', '900', '70,200', '70,500', '69,700', '10,175,750'],\n",
       " ['2022.03.15', '69,500', '700', '69,800', '70,100', '69,500', '10,258,562'],\n",
       " ['2022.03.14', '70,200', '200', '70,000', '70,200', '69,600', '9,040,993'],\n",
       " ['2022.03.11', '70,000', '1,200', '70,500', '70,700', '69,700', '15,787,655'],\n",
       " ['2022.03.10', '71,200', '1,700', '70,800', '71,200', '70,500', '21,159,248'],\n",
       " ['2022.03.08', '69,500', '600', '68,800', '70,000', '68,700', '15,828,269'],\n",
       " ['2022.03.07', '70,100', '1,400', '70,000', '70,600', '69,900', '18,617,138'],\n",
       " ['2022.03.04', '71,500', '1,400', '72,700', '72,700', '71,200', '13,409,634'],\n",
       " ['2022.03.03', '72,900', '1,200', '72,300', '73,100', '72,200', '13,232,638'],\n",
       " ['2022.03.02', '71,700', '400', '72,300', '72,400', '71,500', '12,481,430'],\n",
       " ['2022.02.28', '72,100', '200', '71,100', '72,100', '71,000', '17,781,783'],\n",
       " ['2022.02.25', '71,900', '400', '72,100', '72,600', '71,900', '13,168,484'],\n",
       " ['2022.02.24', '71,500', '1,500', '72,300', '72,300', '71,300', '15,759,283'],\n",
       " ['2022.02.23', '73,000', '400', '73,800', '73,800', '72,800', '10,397,964'],\n",
       " ['2022.02.22', '73,400', '800', '73,000', '73,400', '72,800', '11,692,469'],\n",
       " ['2022.02.21', '74,200', '100', '73,200', '74,300', '72,600', '10,489,717'],\n",
       " ['2022.02.18', '74,300', '700', '74,600', '74,800', '73,700', '10,122,226'],\n",
       " ['2022.02.17', '75,000', '200', '75,000', '75,600', '74,500', '13,605,382'],\n",
       " ['2022.02.16', '74,800', '1,100', '74,600', '74,900', '74,200', '10,767,386'],\n",
       " ['2022.02.15', '73,700', '0', '74,100', '74,200', '73,100', '9,320,365'],\n",
       " ['2022.02.14', '73,700', '1,200', '74,400', '74,500', '73,100', '13,993,255'],\n",
       " ['2022.02.11', '74,900', '500', '75,000', '75,500', '74,600', '12,205,407'],\n",
       " ['2022.02.10', '75,400', '700', '75,600', '75,800', '74,700', '17,746,033'],\n",
       " ['2022.02.09', '74,700', '1,200', '74,300', '74,700', '74,000', '9,699,122'],\n",
       " ['2022.02.08', '73,500', '500', '73,800', '74,200', '73,000', '11,736,666'],\n",
       " ['2022.02.07', '73,000', '1,000', '73,500', '73,600', '72,400', '14,240,838'],\n",
       " ['2022.02.04', '74,000', '700', '74,300', '74,600', '73,400', '12,730,034'],\n",
       " ['2022.02.03', '73,300', '0', '74,900', '74,900', '73,300', '17,744,721'],\n",
       " ['2022.01.28', '73,300', '2,000', '71,300', '73,700', '71,200', '21,367,447'],\n",
       " ['2022.01.27', '71,300', '2,000', '73,800', '74,000', '71,300', '22,274,777'],\n",
       " ['2022.01.26', '73,300', '700', '73,900', '74,400', '73,100', '12,976,730'],\n",
       " ['2022.01.25', '74,000', '1,100', '74,800', '75,000', '73,200', '17,766,704'],\n",
       " ['2022.01.24', '75,100', '500', '75,400', '75,800', '74,700', '13,691,134'],\n",
       " ['2022.01.21', '75,600', '900', '75,800', '75,800', '74,700', '15,774,888'],\n",
       " ['2022.01.20', '76,500', '200', '76,200', '76,700', '75,900', '9,708,168'],\n",
       " ['2022.01.19', '76,300', '700', '76,500', '76,900', '76,100', '10,598,290'],\n",
       " ['2022.01.18', '77,000', '500', '77,600', '77,800', '76,600', '9,592,788'],\n",
       " ['2022.01.17', '77,500', '200', '77,600', '77,800', '76,900', '8,785,122'],\n",
       " ['2022.01.14', '77,300', '600', '77,700', '78,100', '77,100', '10,096,725'],\n",
       " ['2022.01.13', '77,900', '1,000', '79,300', '79,300', '77,900', '13,889,401'],\n",
       " ['2022.01.12', '78,900', '0', '79,500', '79,600', '78,600', '11,000,502'],\n",
       " ['2022.01.11', '78,900', '900', '78,400', '79,000', '78,000', '13,221,123'],\n",
       " ['2022.01.10', '78,000', '300', '78,100', '78,100', '77,100', '9,947,422'],\n",
       " ['2022.01.07', '78,300', '1,400', '78,100', '78,400', '77,400', '15,163,757'],\n",
       " ['2022.01.06', '76,900', '500', '76,700', '77,600', '76,600', '12,931,954'],\n",
       " ['2022.01.05', '77,400', '1,300', '78,800', '79,000', '76,400', '25,470,640'],\n",
       " ['2022.01.04', '78,700', '100', '78,800', '79,200', '78,300', '12,427,416'],\n",
       " ['2022.01.03', '78,600', '300', '79,400', '79,800', '78,200', '13,502,112'],\n",
       " ['2021.12.30', '78,300', '500', '78,900', '79,500', '78,100', '14,236,700'],\n",
       " ['2021.12.29', '78,800', '1,500', '80,200', '80,200', '78,500', '19,794,795'],\n",
       " ['2021.12.28', '80,300', '100', '80,200', '80,400', '79,700', '18,226,325'],\n",
       " ['2021.12.27', '80,200', '300', '80,600', '80,600', '79,800', '10,783,368'],\n",
       " ['2021.12.24', '80,500', '600', '80,200', '80,800', '80,200', '12,086,380'],\n",
       " ['2021.12.23', '79,900', '500', '79,800', '80,000', '79,300', '13,577,498'],\n",
       " ['2021.12.22', '79,400', '1,300', '78,900', '79,400', '78,800', '17,105,892'],\n",
       " ['2021.12.21', '78,100', '1,000', '77,900', '78,300', '77,500', '14,245,298'],\n",
       " ['2021.12.20', '77,100', '900', '77,600', '77,800', '76,800', '11,264,375'],\n",
       " ['2021.12.17', '78,000', '200', '76,800', '78,000', '76,800', '13,108,479'],\n",
       " ['2021.12.16', '77,800', '200', '78,500', '78,500', '77,400', '11,996,128'],\n",
       " ['2021.12.15', '77,600', '600', '76,400', '77,600', '76,300', '9,584,939'],\n",
       " ['2021.12.14', '77,000', '200', '76,500', '77,200', '76,200', '10,976,660'],\n",
       " ['2021.12.13', '76,800', '100', '77,200', '78,300', '76,500', '15,038,750'],\n",
       " ['2021.12.10', '76,900', '1,300', '77,400', '77,600', '76,800', '9,155,219'],\n",
       " ['2021.12.09', '78,200', '800', '77,400', '78,200', '77,000', '21,604,528'],\n",
       " ['2021.12.08', '77,400', '0', '78,300', '78,600', '77,100', '21,558,340'],\n",
       " ['2021.12.07', '77,400', '1,100', '76,100', '77,700', '75,600', '19,232,453'],\n",
       " ['2021.12.06', '76,300', '700', '75,100', '76,700', '74,900', '16,391,250'],\n",
       " ['2021.12.03', '75,600', '200', '75,600', '76,000', '74,100', '18,330,240'],\n",
       " ['2021.12.02', '75,800', '1,400', '73,900', '75,800', '73,800', '23,652,940'],\n",
       " ['2021.12.01', '74,400', '3,100', '72,000', '74,800', '71,600', '21,954,856'],\n",
       " ['2021.11.30', '71,300', '1,000', '73,200', '73,900', '70,500', '30,364,841'],\n",
       " ['2021.11.29', '72,300', '0', '71,700', '73,000', '71,400', '16,682,559'],\n",
       " ['2021.11.26', '72,300', '1,400', '73,500', '74,100', '72,000', '13,002,242'],\n",
       " ['2021.11.25', '73,700', '1,100', '75,100', '75,100', '73,600', '12,559,258'],\n",
       " ['2021.11.24', '74,800', '500', '76,000', '76,200', '74,100', '15,652,305'],\n",
       " ['2021.11.23', '75,300', '400', '76,000', '76,000', '74,500', '22,029,195'],\n",
       " ['2021.11.22', '74,900', '3,700', '73,300', '75,200', '73,000', '27,506,623'],\n",
       " ['2021.11.19', '71,200', '1,000', '70,400', '71,400', '70,100', '11,954,728'],\n",
       " ['2021.11.18', '70,200', '500', '70,700', '71,000', '70,200', '10,144,957'],\n",
       " ['2021.11.17', '70,700', '600', '71,300', '71,600', '70,600', '11,027,606'],\n",
       " ['2021.11.16', '71,300', '100', '71,500', '72,000', '71,300', '10,919,239'],\n",
       " ['2021.11.15', '71,400', '800', '71,700', '71,900', '70,900', '12,420,710'],\n",
       " ['2021.11.12', '70,600', '700', '70,200', '70,900', '69,900', '10,087,450']]"
      ]
     },
     "execution_count": 16,
     "metadata": {},
     "output_type": "execute_result"
    }
   ],
   "source": [
    "total"
   ]
  },
  {
   "cell_type": "code",
   "execution_count": 17,
   "id": "0cde2325",
   "metadata": {},
   "outputs": [],
   "source": [
    "a = [1,2,3]"
   ]
  },
  {
   "cell_type": "code",
   "execution_count": 18,
   "id": "467de93b",
   "metadata": {},
   "outputs": [],
   "source": [
    "b = [4,5]"
   ]
  },
  {
   "cell_type": "code",
   "execution_count": 19,
   "id": "1b4ac33c",
   "metadata": {},
   "outputs": [],
   "source": [
    "a.append(b) # 리스트안"
   ]
  },
  {
   "cell_type": "code",
   "execution_count": 20,
   "id": "fc93c70c",
   "metadata": {},
   "outputs": [
    {
     "data": {
      "text/plain": [
       "[1, 2, 3, [4, 5]]"
      ]
     },
     "execution_count": 20,
     "metadata": {},
     "output_type": "execute_result"
    }
   ],
   "source": [
    "a"
   ]
  },
  {
   "cell_type": "code",
   "execution_count": 21,
   "id": "7c4f6ebe",
   "metadata": {},
   "outputs": [
    {
     "data": {
      "text/plain": [
       "[4, 5]"
      ]
     },
     "execution_count": 21,
     "metadata": {},
     "output_type": "execute_result"
    }
   ],
   "source": [
    "a[-1]"
   ]
  },
  {
   "cell_type": "code",
   "execution_count": 22,
   "id": "bc5e5b92",
   "metadata": {},
   "outputs": [],
   "source": [
    "a.extend(b)"
   ]
  },
  {
   "cell_type": "code",
   "execution_count": 23,
   "id": "36eefb89",
   "metadata": {},
   "outputs": [
    {
     "data": {
      "text/plain": [
       "[1, 2, 3, [4, 5], 4, 5]"
      ]
     },
     "execution_count": 23,
     "metadata": {},
     "output_type": "execute_result"
    }
   ],
   "source": [
    "a"
   ]
  },
  {
   "cell_type": "code",
   "execution_count": null,
   "id": "65a240b3",
   "metadata": {},
   "outputs": [],
   "source": [
    "pip install pymysql"
   ]
  },
  {
   "cell_type": "code",
   "execution_count": null,
   "id": "868f5e32",
   "metadata": {},
   "outputs": [],
   "source": [
    "import pymysql"
   ]
  },
  {
   "cell_type": "code",
   "execution_count": null,
   "id": "75820286",
   "metadata": {},
   "outputs": [],
   "source": [
    "con =pymysql.connect(host=\"127.0.0.1\", user='root', port=3306, password='1234', \n",
    "                charset='utf8')"
   ]
  },
  {
   "cell_type": "code",
   "execution_count": null,
   "id": "88bb7ff4",
   "metadata": {},
   "outputs": [],
   "source": [
    "cur = con.cursor()"
   ]
  },
  {
   "cell_type": "code",
   "execution_count": null,
   "id": "17910cfb",
   "metadata": {},
   "outputs": [],
   "source": [
    "cur.execute(\"show tables\")"
   ]
  },
  {
   "cell_type": "code",
   "execution_count": null,
   "id": "f8a91aea",
   "metadata": {},
   "outputs": [],
   "source": [
    "cur.fetchall()"
   ]
  },
  {
   "cell_type": "code",
   "execution_count": null,
   "id": "b538134e",
   "metadata": {},
   "outputs": [],
   "source": [
    "sql = \"\"\"create table stock (\n",
    "\tcode char(16) not null,\n",
    "\tdate date,\n",
    "\tclosing_price int,\n",
    "\tdiff_price int,\n",
    "\topen_price int,\n",
    "\thigh_price int,\n",
    "\tlow_price int,\n",
    "\tvolume int,\n",
    "\tprimary key(code, date)\n",
    ")\"\"\""
   ]
  },
  {
   "cell_type": "code",
   "execution_count": null,
   "id": "290478cf",
   "metadata": {},
   "outputs": [],
   "source": [
    "cur.execute(sql)"
   ]
  },
  {
   "cell_type": "code",
   "execution_count": null,
   "id": "0044ac57",
   "metadata": {},
   "outputs": [],
   "source": [
    "con.commit()"
   ]
  },
  {
   "cell_type": "code",
   "execution_count": null,
   "id": "2031a3bd",
   "metadata": {},
   "outputs": [],
   "source": [
    "x = total[0].copy()"
   ]
  },
  {
   "cell_type": "code",
   "execution_count": null,
   "id": "3faaa91a",
   "metadata": {},
   "outputs": [],
   "source": [
    "x.insert(0, '005930')"
   ]
  },
  {
   "cell_type": "code",
   "execution_count": null,
   "id": "122a90bc",
   "metadata": {},
   "outputs": [],
   "source": [
    "[y.replace(\",\", \"\") for y in x]"
   ]
  },
  {
   "cell_type": "code",
   "execution_count": null,
   "id": "b1e878ed",
   "metadata": {},
   "outputs": [],
   "source": [
    "sql_insert = \"INSERT INTO stock VALUES (%s, %s, %s, %s,%s, %s, %s, %s)\""
   ]
  },
  {
   "cell_type": "code",
   "execution_count": null,
   "id": "39aee3cd",
   "metadata": {},
   "outputs": [],
   "source": [
    "cur.execute(sql_insert, [y.replace(\",\", \"\") for y in x] )"
   ]
  },
  {
   "cell_type": "code",
   "execution_count": null,
   "id": "5a324bc2",
   "metadata": {},
   "outputs": [],
   "source": [
    "con.commit()"
   ]
  },
  {
   "cell_type": "code",
   "execution_count": null,
   "id": "14a26fbd",
   "metadata": {},
   "outputs": [],
   "source": [
    "cur.execute(\"select * from stock\")"
   ]
  },
  {
   "cell_type": "code",
   "execution_count": null,
   "id": "210a3d77",
   "metadata": {},
   "outputs": [],
   "source": [
    "tmp = cur.fetchall()\n",
    "tmp"
   ]
  },
  {
   "cell_type": "code",
   "execution_count": null,
   "id": "53ab64b9",
   "metadata": {},
   "outputs": [],
   "source": [
    "cur.execute(\"truncate table stock\")"
   ]
  },
  {
   "cell_type": "code",
   "execution_count": null,
   "id": "a104b224",
   "metadata": {},
   "outputs": [],
   "source": [
    "con.commit()"
   ]
  },
  {
   "cell_type": "code",
   "execution_count": null,
   "id": "b1eb776b",
   "metadata": {},
   "outputs": [],
   "source": [
    "cur.execute(\"select * from stock\")"
   ]
  },
  {
   "cell_type": "code",
   "execution_count": null,
   "id": "8d441b52",
   "metadata": {},
   "outputs": [],
   "source": [
    "cur.fetchall()"
   ]
  },
  {
   "cell_type": "markdown",
   "id": "3ce68f64",
   "metadata": {},
   "source": [
    "## DB 데이터 넣기"
   ]
  },
  {
   "cell_type": "code",
   "execution_count": null,
   "id": "3d10d4f4",
   "metadata": {},
   "outputs": [],
   "source": [
    "for x in total:\n",
    "    x.insert(0, '005930')\n",
    "    cur.execute(sql_insert, [y.replace(\",\", \"\") for y in x] )\n",
    "    con.commit()"
   ]
  },
  {
   "cell_type": "code",
   "execution_count": null,
   "id": "f31ff4d7",
   "metadata": {},
   "outputs": [],
   "source": [
    "cur.execute(\"select * from stock\")"
   ]
  },
  {
   "cell_type": "code",
   "execution_count": null,
   "id": "266ed94a",
   "metadata": {},
   "outputs": [],
   "source": [
    "rt = cur.fetchall()"
   ]
  },
  {
   "cell_type": "code",
   "execution_count": null,
   "id": "ab2cc88c",
   "metadata": {},
   "outputs": [],
   "source": [
    "rt"
   ]
  },
  {
   "cell_type": "code",
   "execution_count": null,
   "id": "9768e994",
   "metadata": {},
   "outputs": [],
   "source": [
    "krx = \"http://data.krx.co.kr/comm/bldAttendant/getJsonData.cmd\"\n",
    "payload= {\"bld\" : \"dbms/MDC/STAT/standard/MDCSTAT01901\",\n",
    "\"locale\" : \"ko_KR\",\n",
    "\"mktId\" : \"ALL\",\n",
    "\"share\" : \"1\",\n",
    "\"csvxls_isNo\" : \"false\",}"
   ]
  },
  {
   "cell_type": "code",
   "execution_count": null,
   "id": "c200c8fb",
   "metadata": {},
   "outputs": [],
   "source": [
    "krx_r = requests.post(krx, data=payload)"
   ]
  },
  {
   "cell_type": "code",
   "execution_count": null,
   "id": "ff53f556",
   "metadata": {},
   "outputs": [],
   "source": [
    "len(krx_r.json()['OutBlock_1'])"
   ]
  },
  {
   "cell_type": "code",
   "execution_count": null,
   "id": "81b618d6",
   "metadata": {
    "scrolled": true
   },
   "outputs": [],
   "source": [
    "for x in krx_r.json()['OutBlock_1']:\n",
    "    print(x)\n",
    "    break"
   ]
  },
  {
   "cell_type": "code",
   "execution_count": null,
   "id": "033aa8dd",
   "metadata": {},
   "outputs": [],
   "source": [
    "x"
   ]
  },
  {
   "cell_type": "code",
   "execution_count": null,
   "id": "42c8bd2e",
   "metadata": {},
   "outputs": [],
   "source": [
    "for x in krx_r.json()['OutBlock_1']:\n",
    "    print(f\"{x['ISU_NM']} -> {x['ISU_SRT_CD']}\")"
   ]
  },
  {
   "cell_type": "code",
   "execution_count": null,
   "id": "df90e224",
   "metadata": {},
   "outputs": [],
   "source": [
    "get_stock_day(\"043650\", 2)"
   ]
  },
  {
   "cell_type": "code",
   "execution_count": null,
   "id": "d8e65f9d",
   "metadata": {},
   "outputs": [],
   "source": [
    "krx_sql = \"\"\"create table master (\n",
    "\t{} varchar(50),\n",
    "    {} varchar(50),\n",
    "    {} varchar(50),\n",
    "    {} varchar(50),\n",
    "    {} varchar(50),\n",
    "    {} varchar(50),\n",
    "    {} varchar(50),\n",
    "    {} varchar(50),\n",
    "    {} varchar(50),\n",
    "    {} varchar(50),\n",
    "    {} varchar(50),\n",
    "    {} varchar(50),\n",
    "    primary key(ISU_CD)\n",
    ")\"\"\""
   ]
  },
  {
   "cell_type": "code",
   "execution_count": null,
   "id": "4d87c37a",
   "metadata": {},
   "outputs": [],
   "source": [
    "len(x.keys())"
   ]
  },
  {
   "cell_type": "code",
   "execution_count": null,
   "id": "01b4bda6",
   "metadata": {},
   "outputs": [],
   "source": [
    "x"
   ]
  },
  {
   "cell_type": "code",
   "execution_count": null,
   "id": "dc69ed41",
   "metadata": {},
   "outputs": [],
   "source": [
    "print(krx_sql.format('ISU_CD', 'ISU_SRT_CD', 'ISU_NM', 'ISU_ABBRV', 'ISU_ENG_NM', 'LIST_DD', 'MKT_TP_NM', 'SECUGRP_NM', 'SECT_TP_NM', 'KIND_STKCERT_TP_NM', 'PARVAL', 'LIST_SHRS'))\n"
   ]
  },
  {
   "cell_type": "code",
   "execution_count": null,
   "id": "f52aebe3",
   "metadata": {},
   "outputs": [],
   "source": [
    "cur.execute(krx_sql.format('ISU_CD', 'ISU_SRT_CD', 'ISU_NM', 'ISU_ABBRV', 'ISU_ENG_NM', 'LIST_DD', 'MKT_TP_NM', 'SECUGRP_NM', 'SECT_TP_NM', 'KIND_STKCERT_TP_NM', 'PARVAL', 'LIST_SHRS'))\n"
   ]
  },
  {
   "cell_type": "code",
   "execution_count": null,
   "id": "c279956d",
   "metadata": {},
   "outputs": [],
   "source": [
    "con.commit()"
   ]
  },
  {
   "cell_type": "code",
   "execution_count": null,
   "id": "70cd6436",
   "metadata": {},
   "outputs": [],
   "source": [
    "master_sql = \"INSERT INTO master VALUES(%s,%s,%s,%s,%s,%s,%s,%s,%s,%s,%s,%s)\""
   ]
  },
  {
   "cell_type": "code",
   "execution_count": null,
   "id": "cd25e259",
   "metadata": {},
   "outputs": [],
   "source": [
    "x"
   ]
  },
  {
   "cell_type": "code",
   "execution_count": null,
   "id": "99a231fa",
   "metadata": {},
   "outputs": [],
   "source": [
    "cur.execute(master_sql, x.values())"
   ]
  },
  {
   "cell_type": "code",
   "execution_count": null,
   "id": "35cfcaf2",
   "metadata": {},
   "outputs": [],
   "source": [
    "con.commit()"
   ]
  },
  {
   "cell_type": "code",
   "execution_count": null,
   "id": "a94b6e56",
   "metadata": {},
   "outputs": [],
   "source": [
    "cur.execute(\"drop table master\")\n",
    "con.commit()"
   ]
  },
  {
   "cell_type": "code",
   "execution_count": null,
   "id": "ad4ea11c",
   "metadata": {},
   "outputs": [],
   "source": [
    "cur.execute(\"select * from master\")\n",
    "cur.fatchall()"
   ]
  },
  {
   "cell_type": "code",
   "execution_count": null,
   "id": "7a3e500f",
   "metadata": {},
   "outputs": [],
   "source": []
  },
  {
   "cell_type": "code",
   "execution_count": null,
   "id": "6c3b8370",
   "metadata": {},
   "outputs": [],
   "source": [
    "for x in krx_r.json()['OutBlock_1']:\n",
    "    try:\n",
    "        cur.execute(master_sql, list(x.values()))\n",
    "    except Exception as e:\n",
    "        print(e)\n",
    "        print(x['ISU_ENG_NM'])"
   ]
  },
  {
   "cell_type": "code",
   "execution_count": null,
   "id": "d4f8a871",
   "metadata": {},
   "outputs": [],
   "source": [
    "con.commit()"
   ]
  },
  {
   "cell_type": "code",
   "execution_count": null,
   "id": "7fb23d29",
   "metadata": {},
   "outputs": [],
   "source": [
    "rt = cur.fetchall()"
   ]
  },
  {
   "cell_type": "code",
   "execution_count": null,
   "id": "5068e1ac",
   "metadata": {},
   "outputs": [],
   "source": [
    "rt"
   ]
  },
  {
   "cell_type": "code",
   "execution_count": null,
   "id": "e7980c21",
   "metadata": {},
   "outputs": [],
   "source": [
    "get_stock_day(\"043650\", 2)"
   ]
  },
  {
   "cell_type": "code",
   "execution_count": null,
   "id": "31cd89e2",
   "metadata": {
    "scrolled": true
   },
   "outputs": [],
   "source": [
    "cur.execute(\"SELECT * FROM stock WHERE code = '005930'\")"
   ]
  },
  {
   "cell_type": "code",
   "execution_count": null,
   "id": "d499a60e",
   "metadata": {},
   "outputs": [],
   "source": [
    "cur.execute(\"SELECT * FROM stock WHERE ISU_SRT_CD = '005930'\")"
   ]
  },
  {
   "cell_type": "code",
   "execution_count": null,
   "id": "dc961c79",
   "metadata": {},
   "outputs": [],
   "source": [
    "cur.execute(\"select s.* from master m, stock s where m.ISU_SRT_CD = s.code and s.code ='005930'\")\n"
   ]
  },
  {
   "cell_type": "code",
   "execution_count": null,
   "id": "9ecd24e6",
   "metadata": {},
   "outputs": [],
   "source": [
    "cur.execute(\"select s.* from master m, stock s where m.ISU_SRT_CD = s.code and m.ISU_NM like '%삼성%'\")\n"
   ]
  },
  {
   "cell_type": "code",
   "execution_count": null,
   "id": "90c53cd3",
   "metadata": {},
   "outputs": [],
   "source": [
    "cur.fetchall()"
   ]
  }
 ],
 "metadata": {
  "kernelspec": {
   "display_name": "Python 3 (ipykernel)",
   "language": "python",
   "name": "python3"
  },
  "language_info": {
   "codemirror_mode": {
    "name": "ipython",
    "version": 3
   },
   "file_extension": ".py",
   "mimetype": "text/x-python",
   "name": "python",
   "nbconvert_exporter": "python",
   "pygments_lexer": "ipython3",
   "version": "3.9.7"
  }
 },
 "nbformat": 4,
 "nbformat_minor": 5
}
