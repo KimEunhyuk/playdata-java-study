{
 "cells": [
  {
   "cell_type": "markdown",
   "metadata": {},
   "source": [
    "# KBO\n",
    "### Selenium을 사용하여 데이터 수집하는 방법을 살펴보겠습니다.\n"
   ]
  },
  {
   "cell_type": "code",
   "execution_count": 1,
   "metadata": {},
   "outputs": [
    {
     "name": "stdout",
     "output_type": "stream",
     "text": [
      " C 드라이브의 볼륨: OS\n",
      " 볼륨 일련 번호: 921A-68D9\n",
      "\n",
      " C:\\20220103_lab\\14.python 디렉터리\n",
      "\n",
      "2022-04-08  오후 03:20    <DIR>          .\n",
      "2022-04-08  오후 03:20    <DIR>          ..\n",
      "2022-04-08  오후 03:20    <DIR>          .ipynb_checkpoints\n",
      "2022-04-05  오후 03:23    <DIR>          apple\n",
      "2022-04-05  오후 03:16             1,187 bigbang.txt\n",
      "2022-04-06  오후 07:01    <DIR>          data\n",
      "2022-04-04  오후 07:07            78,667 encore_220404.ipynb\n",
      "2022-04-06  오후 07:06         5,322,810 encore_220405.ipynb\n",
      "2022-04-05  오후 05:47             2,863 encore_220405_assignment_melon.ipynb\n",
      "2022-04-06  오후 07:51            24,470 encore_220406.ipynb\n",
      "2022-04-07  오후 06:13           945,662 encore_220407.ipynb\n",
      "2022-04-08  오후 03:20           338,751 encore_220408.ipynb\n",
      "2022-04-07  오전 09:38             6,648 kbo.pkl\n",
      "2022-04-05  오후 05:36    <DIR>          melon\n",
      "2022-04-06  오후 02:24                 0 movetext.TXT\n",
      "2022-04-08  오후 03:20             8,356 Selenium을 사용한 KBO 데이터 수집.ipynb\n",
      "2022-04-06  오전 10:33             1,244 star.py\n",
      "2022-04-06  오후 12:16         1,803,654 starbucks.pkl\n",
      "2022-04-06  오전 10:34    <DIR>          util\n",
      "2022-04-06  오전 10:34    <DIR>          __pycache__\n",
      "              12개 파일           8,534,312 바이트\n",
      "               8개 디렉터리  38,664,904,704 바이트 남음\n"
     ]
    }
   ],
   "source": [
    "!dir"
   ]
  },
  {
   "cell_type": "code",
   "execution_count": 4,
   "metadata": {},
   "outputs": [
    {
     "name": "stdout",
     "output_type": "stream",
     "text": [
      "Requirement already satisfied: webdriver-manager in d:\\anaconda\\lib\\site-packages (3.5.4)\n",
      "Requirement already satisfied: requests in d:\\anaconda\\lib\\site-packages (from webdriver-manager) (2.26.0)\n",
      "Requirement already satisfied: charset-normalizer~=2.0.0 in d:\\anaconda\\lib\\site-packages (from requests->webdriver-manager) (2.0.4)\n",
      "Requirement already satisfied: certifi>=2017.4.17 in d:\\anaconda\\lib\\site-packages (from requests->webdriver-manager) (2021.10.8)\n",
      "Requirement already satisfied: idna<4,>=2.5 in d:\\anaconda\\lib\\site-packages (from requests->webdriver-manager) (3.2)\n",
      "Requirement already satisfied: urllib3<1.27,>=1.21.1 in d:\\anaconda\\lib\\site-packages (from requests->webdriver-manager) (1.26.7)\n",
      "Note: you may need to restart the kernel to use updated packages.\n"
     ]
    }
   ],
   "source": [
    "pip install webdriver-manager"
   ]
  },
  {
   "cell_type": "code",
   "execution_count": 3,
   "metadata": {},
   "outputs": [
    {
     "name": "stdout",
     "output_type": "stream",
     "text": [
      "Requirement already satisfied: selenium in d:\\anaconda\\lib\\site-packages (4.1.3)\n",
      "Requirement already satisfied: trio-websocket~=0.9 in d:\\anaconda\\lib\\site-packages (from selenium) (0.9.2)\n",
      "Requirement already satisfied: trio~=0.17 in d:\\anaconda\\lib\\site-packages (from selenium) (0.20.0)\n",
      "Requirement already satisfied: urllib3[secure,socks]~=1.26 in d:\\anaconda\\lib\\site-packages (from selenium) (1.26.7)\n",
      "Requirement already satisfied: sortedcontainers in d:\\anaconda\\lib\\site-packages (from trio~=0.17->selenium) (2.4.0)\n",
      "Requirement already satisfied: cffi>=1.14 in d:\\anaconda\\lib\\site-packages (from trio~=0.17->selenium) (1.14.6)\n",
      "Requirement already satisfied: idna in d:\\anaconda\\lib\\site-packages (from trio~=0.17->selenium) (3.2)\n",
      "Requirement already satisfied: sniffio in d:\\anaconda\\lib\\site-packages (from trio~=0.17->selenium) (1.2.0)\n",
      "Requirement already satisfied: attrs>=19.2.0 in d:\\anaconda\\lib\\site-packages (from trio~=0.17->selenium) (21.2.0)\n",
      "Requirement already satisfied: outcome in d:\\anaconda\\lib\\site-packages (from trio~=0.17->selenium) (1.1.0)\n",
      "Requirement already satisfied: async-generator>=1.9 in d:\\anaconda\\lib\\site-packages (from trio~=0.17->selenium) (1.10)\n",
      "Requirement already satisfied: pycparser in d:\\anaconda\\lib\\site-packages (from cffi>=1.14->trio~=0.17->selenium) (2.20)\n",
      "Requirement already satisfied: wsproto>=0.14 in d:\\anaconda\\lib\\site-packages (from trio-websocket~=0.9->selenium) (1.1.0)\n",
      "Requirement already satisfied: PySocks!=1.5.7,<2.0,>=1.5.6 in d:\\anaconda\\lib\\site-packages (from urllib3[secure,socks]~=1.26->selenium) (1.7.1)\n",
      "Requirement already satisfied: pyOpenSSL>=0.14 in d:\\anaconda\\lib\\site-packages (from urllib3[secure,socks]~=1.26->selenium) (21.0.0)\n",
      "Requirement already satisfied: cryptography>=1.3.4 in d:\\anaconda\\lib\\site-packages (from urllib3[secure,socks]~=1.26->selenium) (3.4.8)\n",
      "Requirement already satisfied: certifi in d:\\anaconda\\lib\\site-packages (from urllib3[secure,socks]~=1.26->selenium) (2021.10.8)\n",
      "Requirement already satisfied: six>=1.5.2 in d:\\anaconda\\lib\\site-packages (from pyOpenSSL>=0.14->urllib3[secure,socks]~=1.26->selenium) (1.16.0)\n",
      "Requirement already satisfied: h11<1,>=0.9.0 in d:\\anaconda\\lib\\site-packages (from wsproto>=0.14->trio-websocket~=0.9->selenium) (0.13.0)\n",
      "Note: you may need to restart the kernel to use updated packages.\n"
     ]
    }
   ],
   "source": [
    "pip install selenium"
   ]
  },
  {
   "cell_type": "code",
   "execution_count": 6,
   "metadata": {},
   "outputs": [],
   "source": [
    "from selenium import webdriver\n",
    "from selenium.webdriver.chrome.service import Service\n",
    "from selenium.webdriver.common.by import By\n",
    "from bs4 import BeautifulSoup as BS\n",
    "import re\n",
    "import requests\n",
    "from urllib import request\n",
    "import pandas as pd"
   ]
  },
  {
   "cell_type": "markdown",
   "metadata": {},
   "source": [
    "* 정규식 패턴을 사용합니다. \n",
    "    * 아래 정규식 패턴은 playerId의 숫자값을 추출하는 정규식입니다."
   ]
  },
  {
   "cell_type": "code",
   "execution_count": 9,
   "metadata": {},
   "outputs": [],
   "source": [
    "pattern = re.compile(\"playerId=([0-9]+)\")"
   ]
  },
  {
   "cell_type": "markdown",
   "metadata": {},
   "source": [
    "* Selenium을 사용하기 위해서는 브라우저의 드라이버를 설정해야 합니다. \n",
    "    * 이번 예제는 크롬 브라우저를 사용하기 때문에 크롬 드라이버를 선택해줍니다. \n",
    "    * 다운로드\n",
    "    * https://chromedriver.chromium.org/downloads"
   ]
  },
  {
   "cell_type": "code",
   "execution_count": 10,
   "metadata": {},
   "outputs": [],
   "source": [
    "s = Service(\"c:/chrome/chromedriver.exe\")\n",
    "\n",
    "driver = webdriver.Chrome(service=s)"
   ]
  },
  {
   "cell_type": "code",
   "execution_count": 14,
   "metadata": {},
   "outputs": [],
   "source": [
    "driver.get(\"http://www.koreabaseball.com\")"
   ]
  },
  {
   "cell_type": "markdown",
   "metadata": {},
   "source": [
    "By.CSS_SELECTOR   ->   #popupVideo > img"
   ]
  },
  {
   "cell_type": "code",
   "execution_count": 15,
   "metadata": {},
   "outputs": [],
   "source": [
    "driver.find_element(by=By.CSS_SELECTOR, \n",
    "                    value=\"#popupVideo > img\").click()"
   ]
  },
  {
   "cell_type": "code",
   "execution_count": 6,
   "metadata": {},
   "outputs": [],
   "source": [
    "#cphContents_cphContents_cphContents_ddlTeam > option:nth-child(8)\n",
    "#cphContents_cphContents_cphContents_ddlTeam > option:nth-child(10)"
   ]
  },
  {
   "cell_type": "markdown",
   "metadata": {},
   "source": [
    "By.CSS_SELECTOR   ->   #lnb > li:nth-child(4) > a"
   ]
  },
  {
   "cell_type": "code",
   "execution_count": 16,
   "metadata": {},
   "outputs": [],
   "source": [
    "driver.find_element(by=By.CSS_SELECTOR, \n",
    "                     value=\"#lnb > li:nth-child(4) > a\").click()"
   ]
  },
  {
   "cell_type": "code",
   "execution_count": 17,
   "metadata": {},
   "outputs": [],
   "source": [
    "select_team = \"#cphContents_cphContents_cphContents_ddlTeam > option:nth-child({})\""
   ]
  },
  {
   "cell_type": "code",
   "execution_count": 18,
   "metadata": {},
   "outputs": [],
   "source": [
    "select_page = \"#cphContents_cphContents_cphContents_ucPager_btnNo{}\""
   ]
  },
  {
   "cell_type": "code",
   "execution_count": 20,
   "metadata": {},
   "outputs": [],
   "source": [
    "import time"
   ]
  },
  {
   "cell_type": "code",
   "execution_count": 21,
   "metadata": {},
   "outputs": [
    {
     "name": "stdout",
     "output_type": "stream",
     "text": [
      "Message: no such element: Unable to locate element: {\"method\":\"css selector\",\"selector\":\"#cphContents_cphContents_cphContents_ucPager_btnNo5\"}\n",
      "  (Session info: chrome=100.0.4896.75)\n",
      "Stacktrace:\n",
      "Backtrace:\n",
      "\tOrdinal0 [0x00C07413+2389011]\n",
      "\tOrdinal0 [0x00B99F61+1941345]\n",
      "\tOrdinal0 [0x00A8C658+837208]\n",
      "\tOrdinal0 [0x00AB91DD+1020381]\n",
      "\tOrdinal0 [0x00AB949B+1021083]\n",
      "\tOrdinal0 [0x00AE6032+1204274]\n",
      "\tOrdinal0 [0x00AD4194+1130900]\n",
      "\tOrdinal0 [0x00AE4302+1196802]\n",
      "\tOrdinal0 [0x00AD3F66+1130342]\n",
      "\tOrdinal0 [0x00AAE546+976198]\n",
      "\tOrdinal0 [0x00AAF456+980054]\n",
      "\tGetHandleVerifier [0x00DB9632+1727522]\n",
      "\tGetHandleVerifier [0x00E6BA4D+2457661]\n",
      "\tGetHandleVerifier [0x00C9EB81+569713]\n",
      "\tGetHandleVerifier [0x00C9DD76+566118]\n",
      "\tOrdinal0 [0x00BA0B2B+1968939]\n",
      "\tOrdinal0 [0x00BA5988+1989000]\n",
      "\tOrdinal0 [0x00BA5A75+1989237]\n",
      "\tOrdinal0 [0x00BAECB1+2026673]\n",
      "\tBaseThreadInitThunk [0x75F2FA29+25]\n",
      "\tRtlGetAppContainerNamedObjectPath [0x77387A7E+286]\n",
      "\tRtlGetAppContainerNamedObjectPath [0x77387A4E+238]\n",
      "\n",
      "Message: no such element: Unable to locate element: {\"method\":\"css selector\",\"selector\":\"#cphContents_cphContents_cphContents_ucPager_btnNo5\"}\n",
      "  (Session info: chrome=100.0.4896.75)\n",
      "Stacktrace:\n",
      "Backtrace:\n",
      "\tOrdinal0 [0x00C07413+2389011]\n",
      "\tOrdinal0 [0x00B99F61+1941345]\n",
      "\tOrdinal0 [0x00A8C658+837208]\n",
      "\tOrdinal0 [0x00AB91DD+1020381]\n",
      "\tOrdinal0 [0x00AB949B+1021083]\n",
      "\tOrdinal0 [0x00AE6032+1204274]\n",
      "\tOrdinal0 [0x00AD4194+1130900]\n",
      "\tOrdinal0 [0x00AE4302+1196802]\n",
      "\tOrdinal0 [0x00AD3F66+1130342]\n",
      "\tOrdinal0 [0x00AAE546+976198]\n",
      "\tOrdinal0 [0x00AAF456+980054]\n",
      "\tGetHandleVerifier [0x00DB9632+1727522]\n",
      "\tGetHandleVerifier [0x00E6BA4D+2457661]\n",
      "\tGetHandleVerifier [0x00C9EB81+569713]\n",
      "\tGetHandleVerifier [0x00C9DD76+566118]\n",
      "\tOrdinal0 [0x00BA0B2B+1968939]\n",
      "\tOrdinal0 [0x00BA5988+1989000]\n",
      "\tOrdinal0 [0x00BA5A75+1989237]\n",
      "\tOrdinal0 [0x00BAECB1+2026673]\n",
      "\tBaseThreadInitThunk [0x75F2FA29+25]\n",
      "\tRtlGetAppContainerNamedObjectPath [0x77387A7E+286]\n",
      "\tRtlGetAppContainerNamedObjectPath [0x77387A4E+238]\n",
      "\n",
      "Message: no such element: Unable to locate element: {\"method\":\"css selector\",\"selector\":\"#cphContents_cphContents_cphContents_ucPager_btnNo5\"}\n",
      "  (Session info: chrome=100.0.4896.75)\n",
      "Stacktrace:\n",
      "Backtrace:\n",
      "\tOrdinal0 [0x00C07413+2389011]\n",
      "\tOrdinal0 [0x00B99F61+1941345]\n",
      "\tOrdinal0 [0x00A8C658+837208]\n",
      "\tOrdinal0 [0x00AB91DD+1020381]\n",
      "\tOrdinal0 [0x00AB949B+1021083]\n",
      "\tOrdinal0 [0x00AE6032+1204274]\n",
      "\tOrdinal0 [0x00AD4194+1130900]\n",
      "\tOrdinal0 [0x00AE4302+1196802]\n",
      "\tOrdinal0 [0x00AD3F66+1130342]\n",
      "\tOrdinal0 [0x00AAE546+976198]\n",
      "\tOrdinal0 [0x00AAF456+980054]\n",
      "\tGetHandleVerifier [0x00DB9632+1727522]\n",
      "\tGetHandleVerifier [0x00E6BA4D+2457661]\n",
      "\tGetHandleVerifier [0x00C9EB81+569713]\n",
      "\tGetHandleVerifier [0x00C9DD76+566118]\n",
      "\tOrdinal0 [0x00BA0B2B+1968939]\n",
      "\tOrdinal0 [0x00BA5988+1989000]\n",
      "\tOrdinal0 [0x00BA5A75+1989237]\n",
      "\tOrdinal0 [0x00BAECB1+2026673]\n",
      "\tBaseThreadInitThunk [0x75F2FA29+25]\n",
      "\tRtlGetAppContainerNamedObjectPath [0x77387A7E+286]\n",
      "\tRtlGetAppContainerNamedObjectPath [0x77387A4E+238]\n",
      "\n"
     ]
    }
   ],
   "source": [
    "playid = []\n",
    "for x in range(2,12):\n",
    "    for_1 = select_team.format(x)\n",
    "    driver.find_element(by=By.CSS_SELECTOR, value=for_1).click()\n",
    "    time.sleep(2)\n",
    "    #playid.extend(pattern.findall(driver.page_source))\n",
    "    for y in range(1,6):\n",
    "        f2 = select_page.format(y)\n",
    "        try:\n",
    "            driver.find_element(by=By.CSS_SELECTOR, value=f2).click()\n",
    "            time.sleep(1)\n",
    "            playid.extend(pattern.findall(driver.page_source))\n",
    "        except Exception as e:\n",
    "            print (e)\n",
    "        time.sleep(2)"
   ]
  },
  {
   "cell_type": "code",
   "execution_count": null,
   "metadata": {
    "jupyter": {
     "outputs_hidden": true
    }
   },
   "outputs": [],
   "source": [
    "len(playid)"
   ]
  },
  {
   "cell_type": "code",
   "execution_count": null,
   "metadata": {},
   "outputs": [],
   "source": [
    "import pickle"
   ]
  },
  {
   "cell_type": "code",
   "execution_count": null,
   "metadata": {},
   "outputs": [],
   "source": [
    "with open(\"./kbo.pkl\", \"wb\") as f:\n",
    "    pickle.dump(playid,f)"
   ]
  },
  {
   "cell_type": "code",
   "execution_count": null,
   "metadata": {},
   "outputs": [],
   "source": []
  },
  {
   "cell_type": "markdown",
   "metadata": {},
   "source": [
    "### 선수들의 세부 항목들을 수집합니다."
   ]
  },
  {
   "cell_type": "code",
   "execution_count": 22,
   "metadata": {},
   "outputs": [],
   "source": [
    "r = requests.get(\"https://www.koreabaseball.com/Record/Player/HitterDetail/Basic.aspx?playerId=62356\")"
   ]
  },
  {
   "cell_type": "code",
   "execution_count": null,
   "metadata": {},
   "outputs": [],
   "source": []
  },
  {
   "cell_type": "markdown",
   "metadata": {},
   "source": [
    "* 이미지를 다운로드 받고 싶다면 아래 코드를 사용합니다."
   ]
  },
  {
   "cell_type": "code",
   "execution_count": 23,
   "metadata": {},
   "outputs": [
    {
     "data": {
      "text/plain": [
       "('./김규민.jpg', <http.client.HTTPMessage at 0x1bb5ebab2b0>)"
      ]
     },
     "execution_count": 23,
     "metadata": {},
     "output_type": "execute_result"
    }
   ],
   "source": [
    "request.urlretrieve(\"http:\"+BS(r.text).find(\"div\",\\\n",
    "            class_ = \"player_basic\").find(\"img\")['src'], \"./김규민.jpg\")"
   ]
  },
  {
   "cell_type": "markdown",
   "metadata": {},
   "source": [
    "### 사용자 함수를 작성하여 선수들의 세부 정보를 수집합니다."
   ]
  },
  {
   "cell_type": "code",
   "execution_count": 26,
   "metadata": {},
   "outputs": [],
   "source": [
    "def playerID(id_):\n",
    "    play_dict = {}\n",
    "    url = \"https://www.koreabaseball.com/Record/Player/HitterDetail/Basic.aspx?playerId={}\".format(id_)\n",
    "    r = requests.get(url)\n",
    "    #print (r.url)\n",
    "    for x in BS(r.text).find(\"div\",\\\n",
    "                class_ = \"player_basic\").findAll(\"li\"):\n",
    "        rt = [y.strip() for y in x.text.strip().split(\":\")]\n",
    "        play_dict[rt[0]] = rt[1]\n",
    "    play_dict['Team'] = BS(r.text).find(\"h4\", id=\"h4Team\").text\n",
    "    return play_dict"
   ]
  },
  {
   "cell_type": "code",
   "execution_count": 27,
   "metadata": {},
   "outputs": [
    {
     "data": {
      "text/plain": [
       "'69158'"
      ]
     },
     "execution_count": 27,
     "metadata": {},
     "output_type": "execute_result"
    }
   ],
   "source": [
    "playid[0]"
   ]
  },
  {
   "cell_type": "code",
   "execution_count": 29,
   "metadata": {},
   "outputs": [
    {
     "data": {
      "text/plain": [
       "{'선수명': '강효종',\n",
       " '등번호': 'No.43',\n",
       " '생년월일': '2002년 10월 14일',\n",
       " '포지션': '투수(우투우타)',\n",
       " '신장/체중': '184cm/86kg',\n",
       " '경력': '저동초(일산서구리틀)-충암중-충암고',\n",
       " '입단 계약금': '20000만원',\n",
       " '연봉': '3000만원',\n",
       " '지명순위': '21 LG 1차',\n",
       " '입단년도': '21LG',\n",
       " 'Team': 'LG 트윈스'}"
      ]
     },
     "execution_count": 29,
     "metadata": {},
     "output_type": "execute_result"
    }
   ],
   "source": [
    "playerID(playid[1])"
   ]
  },
  {
   "cell_type": "code",
   "execution_count": null,
   "metadata": {},
   "outputs": [],
   "source": []
  }
 ],
 "metadata": {
  "kernelspec": {
   "display_name": "Python 3 (ipykernel)",
   "language": "python",
   "name": "python3"
  },
  "language_info": {
   "codemirror_mode": {
    "name": "ipython",
    "version": 3
   },
   "file_extension": ".py",
   "mimetype": "text/x-python",
   "name": "python",
   "nbconvert_exporter": "python",
   "pygments_lexer": "ipython3",
   "version": "3.9.7"
  }
 },
 "nbformat": 4,
 "nbformat_minor": 4
}
